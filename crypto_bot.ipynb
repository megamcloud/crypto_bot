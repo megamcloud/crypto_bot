{
  "nbformat": 4,
  "nbformat_minor": 0,
  "metadata": {
    "colab": {
      "name": "crypto_bot",
      "provenance": [],
      "collapsed_sections": [],
      "authorship_tag": "ABX9TyOJVkHWtBwMCaKwDlpY6HVD",
      "include_colab_link": true
    },
    "kernelspec": {
      "name": "python3",
      "display_name": "Python 3"
    }
  },
  "cells": [
    {
      "cell_type": "markdown",
      "metadata": {
        "id": "view-in-github",
        "colab_type": "text"
      },
      "source": [
        "<a href=\"https://colab.research.google.com/github/abstractguy/crypto_bot/blob/master/crypto_bot.ipynb\" target=\"_parent\"><img src=\"https://colab.research.google.com/assets/colab-badge.svg\" alt=\"Open In Colab\"/></a>"
      ]
    },
    {
      "cell_type": "markdown",
      "metadata": {
        "id": "jKtLwsCCqsmH",
        "colab_type": "text"
      },
      "source": [
        "Cryptocurrency trading bot."
      ]
    },
    {
      "cell_type": "markdown",
      "metadata": {
        "id": "8cjXevL7q3ZQ",
        "colab_type": "text"
      },
      "source": [
        "Hardcoded parameters."
      ]
    },
    {
      "cell_type": "code",
      "metadata": {
        "id": "OGuarqPrqrT8",
        "colab_type": "code",
        "colab": {}
      },
      "source": [
        "symbol = 'BTCUSDT'\n",
        "period = '15 minutes ago UTC'\n",
        "interval = '1m'\n",
        "api_key = 'yoyoyo'\n",
        "api_secret = 'yeyeye'"
      ],
      "execution_count": 0,
      "outputs": []
    },
    {
      "cell_type": "markdown",
      "metadata": {
        "id": "-RT2OABArdNU",
        "colab_type": "text"
      },
      "source": [
        "Installs."
      ]
    },
    {
      "cell_type": "code",
      "metadata": {
        "id": "v3A6tYLrq7zd",
        "colab_type": "code",
        "outputId": "49a316f0-b497-4248-8ae7-fa67f338acee",
        "colab": {
          "base_uri": "https://localhost:8080/",
          "height": 538
        }
      },
      "source": [
        "!pip install python-binance --upgrade --no-cache-dir"
      ],
      "execution_count": 2,
      "outputs": [
        {
          "output_type": "stream",
          "text": [
            "Requirement already up-to-date: python-binance in /usr/local/lib/python3.6/dist-packages (0.7.5)\n",
            "Requirement already satisfied, skipping upgrade: cryptography in /usr/local/lib/python3.6/dist-packages (from python-binance) (2.8)\n",
            "Requirement already satisfied, skipping upgrade: requests in /usr/local/lib/python3.6/dist-packages (from python-binance) (2.21.0)\n",
            "Requirement already satisfied, skipping upgrade: urllib3 in /usr/local/lib/python3.6/dist-packages (from python-binance) (1.24.3)\n",
            "Requirement already satisfied, skipping upgrade: pyOpenSSL in /usr/local/lib/python3.6/dist-packages (from python-binance) (19.1.0)\n",
            "Requirement already satisfied, skipping upgrade: certifi in /usr/local/lib/python3.6/dist-packages (from python-binance) (2019.11.28)\n",
            "Requirement already satisfied, skipping upgrade: autobahn in /usr/local/lib/python3.6/dist-packages (from python-binance) (20.3.1)\n",
            "Requirement already satisfied, skipping upgrade: six in /usr/local/lib/python3.6/dist-packages (from python-binance) (1.12.0)\n",
            "Requirement already satisfied, skipping upgrade: dateparser in /usr/local/lib/python3.6/dist-packages (from python-binance) (0.7.4)\n",
            "Requirement already satisfied, skipping upgrade: Twisted in /usr/local/lib/python3.6/dist-packages (from python-binance) (19.10.0)\n",
            "Requirement already satisfied, skipping upgrade: service-identity in /usr/local/lib/python3.6/dist-packages (from python-binance) (18.1.0)\n",
            "Requirement already satisfied, skipping upgrade: cffi!=1.11.3,>=1.8 in /usr/local/lib/python3.6/dist-packages (from cryptography->python-binance) (1.14.0)\n",
            "Requirement already satisfied, skipping upgrade: idna<2.9,>=2.5 in /usr/local/lib/python3.6/dist-packages (from requests->python-binance) (2.8)\n",
            "Requirement already satisfied, skipping upgrade: chardet<3.1.0,>=3.0.2 in /usr/local/lib/python3.6/dist-packages (from requests->python-binance) (3.0.4)\n",
            "Requirement already satisfied, skipping upgrade: txaio>=20.1.1 in /usr/local/lib/python3.6/dist-packages (from autobahn->python-binance) (20.1.1)\n",
            "Requirement already satisfied, skipping upgrade: pytz in /usr/local/lib/python3.6/dist-packages (from dateparser->python-binance) (2018.9)\n",
            "Requirement already satisfied, skipping upgrade: python-dateutil in /usr/local/lib/python3.6/dist-packages (from dateparser->python-binance) (2.8.1)\n",
            "Requirement already satisfied, skipping upgrade: tzlocal in /usr/local/lib/python3.6/dist-packages (from dateparser->python-binance) (1.5.1)\n",
            "Requirement already satisfied, skipping upgrade: regex!=2019.02.19 in /usr/local/lib/python3.6/dist-packages (from dateparser->python-binance) (2019.12.20)\n",
            "Requirement already satisfied, skipping upgrade: attrs>=17.4.0 in /usr/local/lib/python3.6/dist-packages (from Twisted->python-binance) (19.3.0)\n",
            "Requirement already satisfied, skipping upgrade: constantly>=15.1 in /usr/local/lib/python3.6/dist-packages (from Twisted->python-binance) (15.1.0)\n",
            "Requirement already satisfied, skipping upgrade: incremental>=16.10.1 in /usr/local/lib/python3.6/dist-packages (from Twisted->python-binance) (17.5.0)\n",
            "Requirement already satisfied, skipping upgrade: zope.interface>=4.4.2 in /usr/local/lib/python3.6/dist-packages (from Twisted->python-binance) (4.7.2)\n",
            "Requirement already satisfied, skipping upgrade: Automat>=0.3.0 in /usr/local/lib/python3.6/dist-packages (from Twisted->python-binance) (20.2.0)\n",
            "Requirement already satisfied, skipping upgrade: PyHamcrest>=1.9.0 in /usr/local/lib/python3.6/dist-packages (from Twisted->python-binance) (2.0.2)\n",
            "Requirement already satisfied, skipping upgrade: hyperlink>=17.1.1 in /usr/local/lib/python3.6/dist-packages (from Twisted->python-binance) (19.0.0)\n",
            "Requirement already satisfied, skipping upgrade: pyasn1 in /usr/local/lib/python3.6/dist-packages (from service-identity->python-binance) (0.4.8)\n",
            "Requirement already satisfied, skipping upgrade: pyasn1-modules in /usr/local/lib/python3.6/dist-packages (from service-identity->python-binance) (0.2.8)\n",
            "Requirement already satisfied, skipping upgrade: pycparser in /usr/local/lib/python3.6/dist-packages (from cffi!=1.11.3,>=1.8->cryptography->python-binance) (2.20)\n",
            "Requirement already satisfied, skipping upgrade: setuptools in /usr/local/lib/python3.6/dist-packages (from zope.interface>=4.4.2->Twisted->python-binance) (45.2.0)\n"
          ],
          "name": "stdout"
        }
      ]
    },
    {
      "cell_type": "markdown",
      "metadata": {
        "id": "4NCI6E0krnqz",
        "colab_type": "text"
      },
      "source": [
        "Library imports."
      ]
    },
    {
      "cell_type": "code",
      "metadata": {
        "id": "roqyi1bprb0q",
        "colab_type": "code",
        "colab": {}
      },
      "source": [
        "%matplotlib inline\n",
        "\n",
        "from binance.client import Client\n",
        "from binance.enums import *\n",
        "from binance.exceptions import BinanceAPIException\n",
        "\n",
        "import datetime\n",
        "import numpy as np\n",
        "import pandas as pd\n",
        "import matplotlib.pyplot as plt\n",
        "import plotly.graph_objects as go"
      ],
      "execution_count": 0,
      "outputs": []
    },
    {
      "cell_type": "markdown",
      "metadata": {
        "id": "DWsthLkwsf-l",
        "colab_type": "text"
      },
      "source": [
        "Function definitions."
      ]
    },
    {
      "cell_type": "code",
      "metadata": {
        "id": "zJc4WzqqqhoI",
        "colab_type": "code",
        "colab": {}
      },
      "source": [
        "def heikin_ashi(df):\n",
        "    heikin_ashi_df = pd.DataFrame(index=df.index.values, columns=['Open', 'High', 'Low', 'Close'])\n",
        "    heikin_ashi_df['Close'] = (df['Open'] + df['High'] + df['Low'] + df['Close']) / 4\n",
        "\n",
        "    for i in range(len(df)):\n",
        "        if i == 0:\n",
        "            heikin_ashi_df.iat[0, 0] = df['Open'].iloc[0]\n",
        "        else:\n",
        "            heikin_ashi_df.iat[i, 0] = (heikin_ashi_df.iat[i - 1, 0] + heikin_ashi_df.iat[i - 1, 3]) / 2\n",
        "\n",
        "    heikin_ashi_df['High'] = heikin_ashi_df.loc[:, ['Open', 'Close']].join(df['High']).max(axis=1)\n",
        "    heikin_ashi_df['Low'] = heikin_ashi_df.loc[:, ['Open', 'Close']].join(df['Low']).min(axis=1)\n",
        "\n",
        "    return heikin_ashi_df\n",
        "\n",
        "def make_buy(quantity, milliseconds=1000):\n",
        "    client.order_market_buy(symbol=symbol, \n",
        "                            quantity=quantity, \n",
        "                            quoteOrderQty=1, \n",
        "                            recvWindow=milliseconds)\n",
        "\n",
        "def make_sell(quantity, milliseconds=1000):\n",
        "    client.order_market_sell(symbol=symbol, \n",
        "                             quantity=quantity, \n",
        "                             quoteOrderQty=1, \n",
        "                             recvWindow=milliseconds)"
      ],
      "execution_count": 0,
      "outputs": []
    },
    {
      "cell_type": "markdown",
      "metadata": {
        "id": "z4eWTY7yswwW",
        "colab_type": "text"
      },
      "source": [
        "Download cryptocurrency symbol data."
      ]
    },
    {
      "cell_type": "code",
      "metadata": {
        "id": "k1Qcy80FI5CT",
        "colab_type": "code",
        "colab": {
          "base_uri": "https://localhost:8080/",
          "height": 551
        },
        "outputId": "31676de5-7d71-415e-ee6b-1ddb4991a16b"
      },
      "source": [
        "client = Client(api_key, api_secret)\n",
        "\n",
        "dataset_downloaded = \\\n",
        "    client.get_historical_klines(symbol='BTCUSDT', \n",
        "                                 interval=interval, \n",
        "                                 start_str=period)\n",
        "\n",
        "dataset_downloaded = pd.DataFrame(dataset_downloaded, \n",
        "                                  columns=['time', \n",
        "                                           'Open', \n",
        "                                           'High', \n",
        "                                           'Low', \n",
        "                                           'Close', \n",
        "                                           'Volume', \n",
        "                                           'Close time', \n",
        "                                           'Quote asset volume', \n",
        "                                           'Number of trades', \n",
        "                                           'Taker buy base asset volume', \n",
        "                                           'Taker buy quote asset volume', \n",
        "                                           'Ignore'])\n",
        "\n",
        "four_hours = 14400\n",
        "milliseconds = 1000\n",
        "\n",
        "dataset_downloaded['time'] = \\\n",
        "    dataset_downloaded['time'].apply(lambda timestamp: \\\n",
        "                                     datetime.datetime.fromtimestamp((timestamp / \\\n",
        "                                                                      milliseconds) - \\\n",
        "                                                                     four_hours))\n",
        "\n",
        "dataset_downloaded = dataset_downloaded[['time', \n",
        "                                         'Open', \n",
        "                                         'High', \n",
        "                                         'Low', \n",
        "                                         'Close', \n",
        "                                         'Volume', \n",
        "                                         'Number of trades']]\n",
        "\n",
        "dataset_downloaded.set_index('time', inplace=True)\n",
        "dataset_downloaded"
      ],
      "execution_count": 5,
      "outputs": [
        {
          "output_type": "execute_result",
          "data": {
            "text/html": [
              "<div>\n",
              "<style scoped>\n",
              "    .dataframe tbody tr th:only-of-type {\n",
              "        vertical-align: middle;\n",
              "    }\n",
              "\n",
              "    .dataframe tbody tr th {\n",
              "        vertical-align: top;\n",
              "    }\n",
              "\n",
              "    .dataframe thead th {\n",
              "        text-align: right;\n",
              "    }\n",
              "</style>\n",
              "<table border=\"1\" class=\"dataframe\">\n",
              "  <thead>\n",
              "    <tr style=\"text-align: right;\">\n",
              "      <th></th>\n",
              "      <th>Open</th>\n",
              "      <th>High</th>\n",
              "      <th>Low</th>\n",
              "      <th>Close</th>\n",
              "      <th>Volume</th>\n",
              "      <th>Number of trades</th>\n",
              "    </tr>\n",
              "    <tr>\n",
              "      <th>time</th>\n",
              "      <th></th>\n",
              "      <th></th>\n",
              "      <th></th>\n",
              "      <th></th>\n",
              "      <th></th>\n",
              "      <th></th>\n",
              "    </tr>\n",
              "  </thead>\n",
              "  <tbody>\n",
              "    <tr>\n",
              "      <th>2020-03-17 22:27:00</th>\n",
              "      <td>5348.34000000</td>\n",
              "      <td>5349.14000000</td>\n",
              "      <td>5345.67000000</td>\n",
              "      <td>5346.00000000</td>\n",
              "      <td>10.55592000</td>\n",
              "      <td>135</td>\n",
              "    </tr>\n",
              "    <tr>\n",
              "      <th>2020-03-17 22:28:00</th>\n",
              "      <td>5346.00000000</td>\n",
              "      <td>5346.76000000</td>\n",
              "      <td>5345.67000000</td>\n",
              "      <td>5345.68000000</td>\n",
              "      <td>8.23795400</td>\n",
              "      <td>104</td>\n",
              "    </tr>\n",
              "    <tr>\n",
              "      <th>2020-03-17 22:29:00</th>\n",
              "      <td>5345.67000000</td>\n",
              "      <td>5349.94000000</td>\n",
              "      <td>5345.67000000</td>\n",
              "      <td>5349.70000000</td>\n",
              "      <td>7.65812800</td>\n",
              "      <td>106</td>\n",
              "    </tr>\n",
              "    <tr>\n",
              "      <th>2020-03-17 22:30:00</th>\n",
              "      <td>5349.71000000</td>\n",
              "      <td>5359.60000000</td>\n",
              "      <td>5348.96000000</td>\n",
              "      <td>5358.71000000</td>\n",
              "      <td>87.12628800</td>\n",
              "      <td>385</td>\n",
              "    </tr>\n",
              "    <tr>\n",
              "      <th>2020-03-17 22:31:00</th>\n",
              "      <td>5359.62000000</td>\n",
              "      <td>5359.69000000</td>\n",
              "      <td>5355.49000000</td>\n",
              "      <td>5358.09000000</td>\n",
              "      <td>18.16216700</td>\n",
              "      <td>182</td>\n",
              "    </tr>\n",
              "    <tr>\n",
              "      <th>2020-03-17 22:32:00</th>\n",
              "      <td>5358.10000000</td>\n",
              "      <td>5359.69000000</td>\n",
              "      <td>5357.16000000</td>\n",
              "      <td>5358.99000000</td>\n",
              "      <td>16.30829200</td>\n",
              "      <td>176</td>\n",
              "    </tr>\n",
              "    <tr>\n",
              "      <th>2020-03-17 22:33:00</th>\n",
              "      <td>5358.99000000</td>\n",
              "      <td>5374.88000000</td>\n",
              "      <td>5358.99000000</td>\n",
              "      <td>5372.32000000</td>\n",
              "      <td>39.28914700</td>\n",
              "      <td>337</td>\n",
              "    </tr>\n",
              "    <tr>\n",
              "      <th>2020-03-17 22:34:00</th>\n",
              "      <td>5371.33000000</td>\n",
              "      <td>5372.02000000</td>\n",
              "      <td>5363.34000000</td>\n",
              "      <td>5366.71000000</td>\n",
              "      <td>47.73277900</td>\n",
              "      <td>295</td>\n",
              "    </tr>\n",
              "    <tr>\n",
              "      <th>2020-03-17 22:35:00</th>\n",
              "      <td>5365.73000000</td>\n",
              "      <td>5368.31000000</td>\n",
              "      <td>5360.78000000</td>\n",
              "      <td>5361.60000000</td>\n",
              "      <td>11.71105200</td>\n",
              "      <td>174</td>\n",
              "    </tr>\n",
              "    <tr>\n",
              "      <th>2020-03-17 22:36:00</th>\n",
              "      <td>5361.60000000</td>\n",
              "      <td>5362.20000000</td>\n",
              "      <td>5357.90000000</td>\n",
              "      <td>5359.50000000</td>\n",
              "      <td>11.09941600</td>\n",
              "      <td>183</td>\n",
              "    </tr>\n",
              "    <tr>\n",
              "      <th>2020-03-17 22:37:00</th>\n",
              "      <td>5359.54000000</td>\n",
              "      <td>5365.22000000</td>\n",
              "      <td>5359.54000000</td>\n",
              "      <td>5363.89000000</td>\n",
              "      <td>9.74651200</td>\n",
              "      <td>132</td>\n",
              "    </tr>\n",
              "    <tr>\n",
              "      <th>2020-03-17 22:38:00</th>\n",
              "      <td>5363.19000000</td>\n",
              "      <td>5363.40000000</td>\n",
              "      <td>5355.67000000</td>\n",
              "      <td>5355.67000000</td>\n",
              "      <td>24.65392900</td>\n",
              "      <td>312</td>\n",
              "    </tr>\n",
              "    <tr>\n",
              "      <th>2020-03-17 22:39:00</th>\n",
              "      <td>5356.10000000</td>\n",
              "      <td>5356.12000000</td>\n",
              "      <td>5348.74000000</td>\n",
              "      <td>5348.74000000</td>\n",
              "      <td>32.76974400</td>\n",
              "      <td>295</td>\n",
              "    </tr>\n",
              "    <tr>\n",
              "      <th>2020-03-17 22:40:00</th>\n",
              "      <td>5349.38000000</td>\n",
              "      <td>5361.44000000</td>\n",
              "      <td>5346.12000000</td>\n",
              "      <td>5360.50000000</td>\n",
              "      <td>38.84952100</td>\n",
              "      <td>283</td>\n",
              "    </tr>\n",
              "    <tr>\n",
              "      <th>2020-03-17 22:41:00</th>\n",
              "      <td>5361.05000000</td>\n",
              "      <td>5361.72000000</td>\n",
              "      <td>5351.98000000</td>\n",
              "      <td>5355.22000000</td>\n",
              "      <td>30.43709500</td>\n",
              "      <td>217</td>\n",
              "    </tr>\n",
              "  </tbody>\n",
              "</table>\n",
              "</div>"
            ],
            "text/plain": [
              "                              Open  ... Number of trades\n",
              "time                                ...                 \n",
              "2020-03-17 22:27:00  5348.34000000  ...              135\n",
              "2020-03-17 22:28:00  5346.00000000  ...              104\n",
              "2020-03-17 22:29:00  5345.67000000  ...              106\n",
              "2020-03-17 22:30:00  5349.71000000  ...              385\n",
              "2020-03-17 22:31:00  5359.62000000  ...              182\n",
              "2020-03-17 22:32:00  5358.10000000  ...              176\n",
              "2020-03-17 22:33:00  5358.99000000  ...              337\n",
              "2020-03-17 22:34:00  5371.33000000  ...              295\n",
              "2020-03-17 22:35:00  5365.73000000  ...              174\n",
              "2020-03-17 22:36:00  5361.60000000  ...              183\n",
              "2020-03-17 22:37:00  5359.54000000  ...              132\n",
              "2020-03-17 22:38:00  5363.19000000  ...              312\n",
              "2020-03-17 22:39:00  5356.10000000  ...              295\n",
              "2020-03-17 22:40:00  5349.38000000  ...              283\n",
              "2020-03-17 22:41:00  5361.05000000  ...              217\n",
              "\n",
              "[15 rows x 6 columns]"
            ]
          },
          "metadata": {
            "tags": []
          },
          "execution_count": 5
        }
      ]
    },
    {
      "cell_type": "markdown",
      "metadata": {
        "id": "-hyQwK4Ntn4g",
        "colab_type": "text"
      },
      "source": [
        "Download testing area -->"
      ]
    },
    {
      "cell_type": "code",
      "metadata": {
        "id": "RD4N_tbItpIs",
        "colab_type": "code",
        "colab": {}
      },
      "source": [
        ""
      ],
      "execution_count": 0,
      "outputs": []
    },
    {
      "cell_type": "markdown",
      "metadata": {
        "id": "CHI7vgKutptt",
        "colab_type": "text"
      },
      "source": [
        "<-- End of download testing area."
      ]
    },
    {
      "cell_type": "markdown",
      "metadata": {
        "id": "48jZWtC4tsWE",
        "colab_type": "text"
      },
      "source": [
        "*** To avoid downloading multiple times, restart here. ***"
      ]
    },
    {
      "cell_type": "code",
      "metadata": {
        "id": "SCf0xuxyuG2j",
        "colab_type": "code",
        "outputId": "c86a7f15-aff2-480c-b0bc-d4dd3d428a8c",
        "colab": {
          "base_uri": "https://localhost:8080/",
          "height": 551
        }
      },
      "source": [
        "dataset = dataset_downloaded.copy()\n",
        "dataset"
      ],
      "execution_count": 6,
      "outputs": [
        {
          "output_type": "execute_result",
          "data": {
            "text/html": [
              "<div>\n",
              "<style scoped>\n",
              "    .dataframe tbody tr th:only-of-type {\n",
              "        vertical-align: middle;\n",
              "    }\n",
              "\n",
              "    .dataframe tbody tr th {\n",
              "        vertical-align: top;\n",
              "    }\n",
              "\n",
              "    .dataframe thead th {\n",
              "        text-align: right;\n",
              "    }\n",
              "</style>\n",
              "<table border=\"1\" class=\"dataframe\">\n",
              "  <thead>\n",
              "    <tr style=\"text-align: right;\">\n",
              "      <th></th>\n",
              "      <th>Open</th>\n",
              "      <th>High</th>\n",
              "      <th>Low</th>\n",
              "      <th>Close</th>\n",
              "      <th>Volume</th>\n",
              "      <th>Number of trades</th>\n",
              "    </tr>\n",
              "    <tr>\n",
              "      <th>time</th>\n",
              "      <th></th>\n",
              "      <th></th>\n",
              "      <th></th>\n",
              "      <th></th>\n",
              "      <th></th>\n",
              "      <th></th>\n",
              "    </tr>\n",
              "  </thead>\n",
              "  <tbody>\n",
              "    <tr>\n",
              "      <th>2020-03-17 22:27:00</th>\n",
              "      <td>5348.34000000</td>\n",
              "      <td>5349.14000000</td>\n",
              "      <td>5345.67000000</td>\n",
              "      <td>5346.00000000</td>\n",
              "      <td>10.55592000</td>\n",
              "      <td>135</td>\n",
              "    </tr>\n",
              "    <tr>\n",
              "      <th>2020-03-17 22:28:00</th>\n",
              "      <td>5346.00000000</td>\n",
              "      <td>5346.76000000</td>\n",
              "      <td>5345.67000000</td>\n",
              "      <td>5345.68000000</td>\n",
              "      <td>8.23795400</td>\n",
              "      <td>104</td>\n",
              "    </tr>\n",
              "    <tr>\n",
              "      <th>2020-03-17 22:29:00</th>\n",
              "      <td>5345.67000000</td>\n",
              "      <td>5349.94000000</td>\n",
              "      <td>5345.67000000</td>\n",
              "      <td>5349.70000000</td>\n",
              "      <td>7.65812800</td>\n",
              "      <td>106</td>\n",
              "    </tr>\n",
              "    <tr>\n",
              "      <th>2020-03-17 22:30:00</th>\n",
              "      <td>5349.71000000</td>\n",
              "      <td>5359.60000000</td>\n",
              "      <td>5348.96000000</td>\n",
              "      <td>5358.71000000</td>\n",
              "      <td>87.12628800</td>\n",
              "      <td>385</td>\n",
              "    </tr>\n",
              "    <tr>\n",
              "      <th>2020-03-17 22:31:00</th>\n",
              "      <td>5359.62000000</td>\n",
              "      <td>5359.69000000</td>\n",
              "      <td>5355.49000000</td>\n",
              "      <td>5358.09000000</td>\n",
              "      <td>18.16216700</td>\n",
              "      <td>182</td>\n",
              "    </tr>\n",
              "    <tr>\n",
              "      <th>2020-03-17 22:32:00</th>\n",
              "      <td>5358.10000000</td>\n",
              "      <td>5359.69000000</td>\n",
              "      <td>5357.16000000</td>\n",
              "      <td>5358.99000000</td>\n",
              "      <td>16.30829200</td>\n",
              "      <td>176</td>\n",
              "    </tr>\n",
              "    <tr>\n",
              "      <th>2020-03-17 22:33:00</th>\n",
              "      <td>5358.99000000</td>\n",
              "      <td>5374.88000000</td>\n",
              "      <td>5358.99000000</td>\n",
              "      <td>5372.32000000</td>\n",
              "      <td>39.28914700</td>\n",
              "      <td>337</td>\n",
              "    </tr>\n",
              "    <tr>\n",
              "      <th>2020-03-17 22:34:00</th>\n",
              "      <td>5371.33000000</td>\n",
              "      <td>5372.02000000</td>\n",
              "      <td>5363.34000000</td>\n",
              "      <td>5366.71000000</td>\n",
              "      <td>47.73277900</td>\n",
              "      <td>295</td>\n",
              "    </tr>\n",
              "    <tr>\n",
              "      <th>2020-03-17 22:35:00</th>\n",
              "      <td>5365.73000000</td>\n",
              "      <td>5368.31000000</td>\n",
              "      <td>5360.78000000</td>\n",
              "      <td>5361.60000000</td>\n",
              "      <td>11.71105200</td>\n",
              "      <td>174</td>\n",
              "    </tr>\n",
              "    <tr>\n",
              "      <th>2020-03-17 22:36:00</th>\n",
              "      <td>5361.60000000</td>\n",
              "      <td>5362.20000000</td>\n",
              "      <td>5357.90000000</td>\n",
              "      <td>5359.50000000</td>\n",
              "      <td>11.09941600</td>\n",
              "      <td>183</td>\n",
              "    </tr>\n",
              "    <tr>\n",
              "      <th>2020-03-17 22:37:00</th>\n",
              "      <td>5359.54000000</td>\n",
              "      <td>5365.22000000</td>\n",
              "      <td>5359.54000000</td>\n",
              "      <td>5363.89000000</td>\n",
              "      <td>9.74651200</td>\n",
              "      <td>132</td>\n",
              "    </tr>\n",
              "    <tr>\n",
              "      <th>2020-03-17 22:38:00</th>\n",
              "      <td>5363.19000000</td>\n",
              "      <td>5363.40000000</td>\n",
              "      <td>5355.67000000</td>\n",
              "      <td>5355.67000000</td>\n",
              "      <td>24.65392900</td>\n",
              "      <td>312</td>\n",
              "    </tr>\n",
              "    <tr>\n",
              "      <th>2020-03-17 22:39:00</th>\n",
              "      <td>5356.10000000</td>\n",
              "      <td>5356.12000000</td>\n",
              "      <td>5348.74000000</td>\n",
              "      <td>5348.74000000</td>\n",
              "      <td>32.76974400</td>\n",
              "      <td>295</td>\n",
              "    </tr>\n",
              "    <tr>\n",
              "      <th>2020-03-17 22:40:00</th>\n",
              "      <td>5349.38000000</td>\n",
              "      <td>5361.44000000</td>\n",
              "      <td>5346.12000000</td>\n",
              "      <td>5360.50000000</td>\n",
              "      <td>38.84952100</td>\n",
              "      <td>283</td>\n",
              "    </tr>\n",
              "    <tr>\n",
              "      <th>2020-03-17 22:41:00</th>\n",
              "      <td>5361.05000000</td>\n",
              "      <td>5361.72000000</td>\n",
              "      <td>5351.98000000</td>\n",
              "      <td>5355.22000000</td>\n",
              "      <td>30.43709500</td>\n",
              "      <td>217</td>\n",
              "    </tr>\n",
              "  </tbody>\n",
              "</table>\n",
              "</div>"
            ],
            "text/plain": [
              "                              Open  ... Number of trades\n",
              "time                                ...                 \n",
              "2020-03-17 22:27:00  5348.34000000  ...              135\n",
              "2020-03-17 22:28:00  5346.00000000  ...              104\n",
              "2020-03-17 22:29:00  5345.67000000  ...              106\n",
              "2020-03-17 22:30:00  5349.71000000  ...              385\n",
              "2020-03-17 22:31:00  5359.62000000  ...              182\n",
              "2020-03-17 22:32:00  5358.10000000  ...              176\n",
              "2020-03-17 22:33:00  5358.99000000  ...              337\n",
              "2020-03-17 22:34:00  5371.33000000  ...              295\n",
              "2020-03-17 22:35:00  5365.73000000  ...              174\n",
              "2020-03-17 22:36:00  5361.60000000  ...              183\n",
              "2020-03-17 22:37:00  5359.54000000  ...              132\n",
              "2020-03-17 22:38:00  5363.19000000  ...              312\n",
              "2020-03-17 22:39:00  5356.10000000  ...              295\n",
              "2020-03-17 22:40:00  5349.38000000  ...              283\n",
              "2020-03-17 22:41:00  5361.05000000  ...              217\n",
              "\n",
              "[15 rows x 6 columns]"
            ]
          },
          "metadata": {
            "tags": []
          },
          "execution_count": 6
        }
      ]
    },
    {
      "cell_type": "code",
      "metadata": {
        "id": "WPpQh6DmuffX",
        "colab_type": "code",
        "outputId": "414e4448-39aa-4acd-db65-a7dc0c6fca4e",
        "colab": {
          "base_uri": "https://localhost:8080/",
          "height": 927
        }
      },
      "source": [
        "dataset = dataset.tz_localize(tz=None, ambiguous='infer')\n",
        "heikin_ashi_dataset = dataset[['Open', 'High', 'Low', 'Close']].copy().astype('float')\n",
        "heikin_ashi_dataset = heikin_ashi(heikin_ashi_dataset)\n",
        "plt.plot(heikin_ashi_dataset)\n",
        "heikin_ashi_dataset"
      ],
      "execution_count": 7,
      "outputs": [
        {
          "output_type": "stream",
          "text": [
            "/usr/local/lib/python3.6/dist-packages/pandas/plotting/_matplotlib/converter.py:103: FutureWarning:\n",
            "\n",
            "Using an implicitly registered datetime converter for a matplotlib plotting method. The converter was registered by pandas on import. Future versions of pandas will require you to explicitly register matplotlib converters.\n",
            "\n",
            "To register the converters:\n",
            "\t>>> from pandas.plotting import register_matplotlib_converters\n",
            "\t>>> register_matplotlib_converters()\n",
            "\n"
          ],
          "name": "stderr"
        },
        {
          "output_type": "execute_result",
          "data": {
            "text/html": [
              "<div>\n",
              "<style scoped>\n",
              "    .dataframe tbody tr th:only-of-type {\n",
              "        vertical-align: middle;\n",
              "    }\n",
              "\n",
              "    .dataframe tbody tr th {\n",
              "        vertical-align: top;\n",
              "    }\n",
              "\n",
              "    .dataframe thead th {\n",
              "        text-align: right;\n",
              "    }\n",
              "</style>\n",
              "<table border=\"1\" class=\"dataframe\">\n",
              "  <thead>\n",
              "    <tr style=\"text-align: right;\">\n",
              "      <th></th>\n",
              "      <th>Open</th>\n",
              "      <th>High</th>\n",
              "      <th>Low</th>\n",
              "      <th>Close</th>\n",
              "    </tr>\n",
              "  </thead>\n",
              "  <tbody>\n",
              "    <tr>\n",
              "      <th>2020-03-17 22:27:00</th>\n",
              "      <td>5348.34</td>\n",
              "      <td>5349.140000</td>\n",
              "      <td>5345.670000</td>\n",
              "      <td>5347.2875</td>\n",
              "    </tr>\n",
              "    <tr>\n",
              "      <th>2020-03-17 22:28:00</th>\n",
              "      <td>5347.81</td>\n",
              "      <td>5347.813750</td>\n",
              "      <td>5345.670000</td>\n",
              "      <td>5346.0275</td>\n",
              "    </tr>\n",
              "    <tr>\n",
              "      <th>2020-03-17 22:29:00</th>\n",
              "      <td>5346.92</td>\n",
              "      <td>5349.940000</td>\n",
              "      <td>5345.670000</td>\n",
              "      <td>5347.7450</td>\n",
              "    </tr>\n",
              "    <tr>\n",
              "      <th>2020-03-17 22:30:00</th>\n",
              "      <td>5347.33</td>\n",
              "      <td>5359.600000</td>\n",
              "      <td>5347.332813</td>\n",
              "      <td>5354.2450</td>\n",
              "    </tr>\n",
              "    <tr>\n",
              "      <th>2020-03-17 22:31:00</th>\n",
              "      <td>5350.79</td>\n",
              "      <td>5359.690000</td>\n",
              "      <td>5350.788906</td>\n",
              "      <td>5358.2225</td>\n",
              "    </tr>\n",
              "    <tr>\n",
              "      <th>2020-03-17 22:32:00</th>\n",
              "      <td>5354.51</td>\n",
              "      <td>5359.690000</td>\n",
              "      <td>5354.505703</td>\n",
              "      <td>5358.4850</td>\n",
              "    </tr>\n",
              "    <tr>\n",
              "      <th>2020-03-17 22:33:00</th>\n",
              "      <td>5356.5</td>\n",
              "      <td>5374.880000</td>\n",
              "      <td>5356.495352</td>\n",
              "      <td>5366.2950</td>\n",
              "    </tr>\n",
              "    <tr>\n",
              "      <th>2020-03-17 22:34:00</th>\n",
              "      <td>5361.4</td>\n",
              "      <td>5372.020000</td>\n",
              "      <td>5361.395176</td>\n",
              "      <td>5368.3500</td>\n",
              "    </tr>\n",
              "    <tr>\n",
              "      <th>2020-03-17 22:35:00</th>\n",
              "      <td>5364.87</td>\n",
              "      <td>5368.310000</td>\n",
              "      <td>5360.780000</td>\n",
              "      <td>5364.1050</td>\n",
              "    </tr>\n",
              "    <tr>\n",
              "      <th>2020-03-17 22:36:00</th>\n",
              "      <td>5364.49</td>\n",
              "      <td>5364.488794</td>\n",
              "      <td>5357.900000</td>\n",
              "      <td>5360.3000</td>\n",
              "    </tr>\n",
              "    <tr>\n",
              "      <th>2020-03-17 22:37:00</th>\n",
              "      <td>5362.39</td>\n",
              "      <td>5365.220000</td>\n",
              "      <td>5359.540000</td>\n",
              "      <td>5362.0475</td>\n",
              "    </tr>\n",
              "    <tr>\n",
              "      <th>2020-03-17 22:38:00</th>\n",
              "      <td>5362.22</td>\n",
              "      <td>5363.400000</td>\n",
              "      <td>5355.670000</td>\n",
              "      <td>5359.4825</td>\n",
              "    </tr>\n",
              "    <tr>\n",
              "      <th>2020-03-17 22:39:00</th>\n",
              "      <td>5360.85</td>\n",
              "      <td>5360.851724</td>\n",
              "      <td>5348.740000</td>\n",
              "      <td>5352.4250</td>\n",
              "    </tr>\n",
              "    <tr>\n",
              "      <th>2020-03-17 22:40:00</th>\n",
              "      <td>5356.64</td>\n",
              "      <td>5361.440000</td>\n",
              "      <td>5346.120000</td>\n",
              "      <td>5354.3600</td>\n",
              "    </tr>\n",
              "    <tr>\n",
              "      <th>2020-03-17 22:41:00</th>\n",
              "      <td>5355.5</td>\n",
              "      <td>5361.720000</td>\n",
              "      <td>5351.980000</td>\n",
              "      <td>5357.4925</td>\n",
              "    </tr>\n",
              "  </tbody>\n",
              "</table>\n",
              "</div>"
            ],
            "text/plain": [
              "                        Open         High          Low      Close\n",
              "2020-03-17 22:27:00  5348.34  5349.140000  5345.670000  5347.2875\n",
              "2020-03-17 22:28:00  5347.81  5347.813750  5345.670000  5346.0275\n",
              "2020-03-17 22:29:00  5346.92  5349.940000  5345.670000  5347.7450\n",
              "2020-03-17 22:30:00  5347.33  5359.600000  5347.332813  5354.2450\n",
              "2020-03-17 22:31:00  5350.79  5359.690000  5350.788906  5358.2225\n",
              "2020-03-17 22:32:00  5354.51  5359.690000  5354.505703  5358.4850\n",
              "2020-03-17 22:33:00   5356.5  5374.880000  5356.495352  5366.2950\n",
              "2020-03-17 22:34:00   5361.4  5372.020000  5361.395176  5368.3500\n",
              "2020-03-17 22:35:00  5364.87  5368.310000  5360.780000  5364.1050\n",
              "2020-03-17 22:36:00  5364.49  5364.488794  5357.900000  5360.3000\n",
              "2020-03-17 22:37:00  5362.39  5365.220000  5359.540000  5362.0475\n",
              "2020-03-17 22:38:00  5362.22  5363.400000  5355.670000  5359.4825\n",
              "2020-03-17 22:39:00  5360.85  5360.851724  5348.740000  5352.4250\n",
              "2020-03-17 22:40:00  5356.64  5361.440000  5346.120000  5354.3600\n",
              "2020-03-17 22:41:00   5355.5  5361.720000  5351.980000  5357.4925"
            ]
          },
          "metadata": {
            "tags": []
          },
          "execution_count": 7
        },
        {
          "output_type": "display_data",
          "data": {
            "image/png": "[encoded data removed]",
            "text/plain": [
              "<Figure size 432x288 with 1 Axes>"
            ]
          },
          "metadata": {
            "tags": []
          }
        }
      ]
    },
    {
      "cell_type": "code",
      "metadata": {
        "id": "vnvi3pKx2GMl",
        "colab_type": "code",
        "outputId": "1c5bcb0e-8f32-4d60-a1d5-d426ea589f0f",
        "colab": {
          "base_uri": "https://localhost:8080/",
          "height": 542
        }
      },
      "source": [
        "fig = go.Figure(data=[go.Candlestick(x=heikin_ashi_dataset.index.to_series(), \n",
        "                                     open=heikin_ashi_dataset['Open'], \n",
        "                                     high=heikin_ashi_dataset['High'], \n",
        "                                     low=heikin_ashi_dataset['Low'], \n",
        "                                     close=heikin_ashi_dataset['Close'])])\n",
        "\n",
        "fig.show()"
      ],
      "execution_count": 8,
      "outputs": [
        {
          "output_type": "display_data",
          "data": {
            "text/html": [
              "<html>\n",
              "<head><meta charset=\"utf-8\" /></head>\n",
              "<body>\n",
              "    <div>\n",
              "            <script src=\"https://cdnjs.cloudflare.com/ajax/libs/mathjax/2.7.5/MathJax.js?config=TeX-AMS-MML_SVG\"></script><script type=\"text/javascript\">if (window.MathJax) {MathJax.Hub.Config({SVG: {font: \"STIX-Web\"}});}</script>\n",
              "                <script type=\"text/javascript\">window.PlotlyConfig = {MathJaxConfig: 'local'};</script>\n",
              "        <script src=\"https://cdn.plot.ly/plotly-latest.min.js\"></script>    \n",
              "            <div id=\"65502045-6fb7-4dab-8dbc-2ba92dd08ea6\" class=\"plotly-graph-div\" style=\"height:525px; width:100%;\"></div>\n",
              "            <script type=\"text/javascript\">\n",
              "                \n",
              "                    window.PLOTLYENV=window.PLOTLYENV || {};\n",
              "                    \n",
              "                if (document.getElementById(\"65502045-6fb7-4dab-8dbc-2ba92dd08ea6\")) {\n",
              "                    Plotly.newPlot(\n",
              "                        '65502045-6fb7-4dab-8dbc-2ba92dd08ea6',\n",
              "                        [{\"close\": [5347.2875, 5346.0275, 5347.745, 5354.245, 5358.2225, 5358.485000000001, 5366.295, 5368.35, 5364.105, 5360.299999999999, 5362.0475, 5359.4825, 5352.425, 5354.36, 5357.4925], \"high\": [5349.14, 5347.81375, 5349.94, 5359.6, 5359.69, 5359.69, 5374.88, 5372.02, 5368.31, 5364.488793945313, 5365.22, 5363.4, 5360.851724243164, 5361.44, 5361.72], \"low\": [5345.67, 5345.67, 5345.67, 5347.332812500001, 5350.78890625, 5354.505703125, 5356.4953515625, 5361.39517578125, 5360.78, 5357.9, 5359.54, 5355.67, 5348.74, 5346.12, 5351.98], \"open\": [5348.34, 5347.81375, 5346.920625000001, 5347.332812500001, 5350.78890625, 5354.505703125, 5356.4953515625, 5361.39517578125, 5364.872587890625, 5364.488793945313, 5362.394396972656, 5362.220948486328, 5360.851724243164, 5356.638362121583, 5355.499181060792], \"type\": \"candlestick\", \"x\": [\"2020-03-17T22:27:00\", \"2020-03-17T22:28:00\", \"2020-03-17T22:29:00\", \"2020-03-17T22:30:00\", \"2020-03-17T22:31:00\", \"2020-03-17T22:32:00\", \"2020-03-17T22:33:00\", \"2020-03-17T22:34:00\", \"2020-03-17T22:35:00\", \"2020-03-17T22:36:00\", \"2020-03-17T22:37:00\", \"2020-03-17T22:38:00\", \"2020-03-17T22:39:00\", \"2020-03-17T22:40:00\", \"2020-03-17T22:41:00\"]}],\n",
              "                        {\"template\": {\"data\": {\"bar\": [{\"error_x\": {\"color\": \"#2a3f5f\"}, \"error_y\": {\"color\": \"#2a3f5f\"}, \"marker\": {\"line\": {\"color\": \"#E5ECF6\", \"width\": 0.5}}, \"type\": \"bar\"}], \"barpolar\": [{\"marker\": {\"line\": {\"color\": \"#E5ECF6\", \"width\": 0.5}}, \"type\": \"barpolar\"}], \"carpet\": [{\"aaxis\": {\"endlinecolor\": \"#2a3f5f\", \"gridcolor\": \"white\", \"linecolor\": \"white\", \"minorgridcolor\": \"white\", \"startlinecolor\": \"#2a3f5f\"}, \"baxis\": {\"endlinecolor\": \"#2a3f5f\", \"gridcolor\": \"white\", \"linecolor\": \"white\", \"minorgridcolor\": \"white\", \"startlinecolor\": \"#2a3f5f\"}, \"type\": \"carpet\"}], \"choropleth\": [{\"colorbar\": {\"outlinewidth\": 0, \"ticks\": \"\"}, \"type\": \"choropleth\"}], \"contour\": [{\"colorbar\": {\"outlinewidth\": 0, \"ticks\": \"\"}, \"colorscale\": [[0.0, \"#0d0887\"], [0.1111111111111111, \"#46039f\"], [0.2222222222222222, \"#7201a8\"], [0.3333333333333333, \"#9c179e\"], [0.4444444444444444, \"#bd3786\"], [0.5555555555555556, \"#d8576b\"], [0.6666666666666666, \"#ed7953\"], [0.7777777777777778, \"#fb9f3a\"], [0.8888888888888888, \"#fdca26\"], [1.0, \"#f0f921\"]], \"type\": \"contour\"}], \"contourcarpet\": [{\"colorbar\": {\"outlinewidth\": 0, \"ticks\": \"\"}, \"type\": \"contourcarpet\"}], \"heatmap\": [{\"colorbar\": {\"outlinewidth\": 0, \"ticks\": \"\"}, \"colorscale\": [[0.0, \"#0d0887\"], [0.1111111111111111, \"#46039f\"], [0.2222222222222222, \"#7201a8\"], [0.3333333333333333, \"#9c179e\"], [0.4444444444444444, \"#bd3786\"], [0.5555555555555556, \"#d8576b\"], [0.6666666666666666, \"#ed7953\"], [0.7777777777777778, \"#fb9f3a\"], [0.8888888888888888, \"#fdca26\"], [1.0, \"#f0f921\"]], \"type\": \"heatmap\"}], \"heatmapgl\": [{\"colorbar\": {\"outlinewidth\": 0, \"ticks\": \"\"}, \"colorscale\": [[0.0, \"#0d0887\"], [0.1111111111111111, \"#46039f\"], [0.2222222222222222, \"#7201a8\"], [0.3333333333333333, \"#9c179e\"], [0.4444444444444444, \"#bd3786\"], [0.5555555555555556, \"#d8576b\"], [0.6666666666666666, \"#ed7953\"], [0.7777777777777778, \"#fb9f3a\"], [0.8888888888888888, \"#fdca26\"], [1.0, \"#f0f921\"]], \"type\": \"heatmapgl\"}], \"histogram\": [{\"marker\": {\"colorbar\": {\"outlinewidth\": 0, \"ticks\": \"\"}}, \"type\": \"histogram\"}], \"histogram2d\": [{\"colorbar\": {\"outlinewidth\": 0, \"ticks\": \"\"}, \"colorscale\": [[0.0, \"#0d0887\"], [0.1111111111111111, \"#46039f\"], [0.2222222222222222, \"#7201a8\"], [0.3333333333333333, \"#9c179e\"], [0.4444444444444444, \"#bd3786\"], [0.5555555555555556, \"#d8576b\"], [0.6666666666666666, \"#ed7953\"], [0.7777777777777778, \"#fb9f3a\"], [0.8888888888888888, \"#fdca26\"], [1.0, \"#f0f921\"]], \"type\": \"histogram2d\"}], \"histogram2dcontour\": [{\"colorbar\": {\"outlinewidth\": 0, \"ticks\": \"\"}, \"colorscale\": [[0.0, \"#0d0887\"], [0.1111111111111111, \"#46039f\"], [0.2222222222222222, \"#7201a8\"], [0.3333333333333333, \"#9c179e\"], [0.4444444444444444, \"#bd3786\"], [0.5555555555555556, \"#d8576b\"], [0.6666666666666666, \"#ed7953\"], [0.7777777777777778, \"#fb9f3a\"], [0.8888888888888888, \"#fdca26\"], [1.0, \"#f0f921\"]], \"type\": \"histogram2dcontour\"}], \"mesh3d\": [{\"colorbar\": {\"outlinewidth\": 0, \"ticks\": \"\"}, \"type\": \"mesh3d\"}], \"parcoords\": [{\"line\": {\"colorbar\": {\"outlinewidth\": 0, \"ticks\": \"\"}}, \"type\": \"parcoords\"}], \"pie\": [{\"automargin\": true, \"type\": \"pie\"}], \"scatter\": [{\"marker\": {\"colorbar\": {\"outlinewidth\": 0, \"ticks\": \"\"}}, \"type\": \"scatter\"}], \"scatter3d\": [{\"line\": {\"colorbar\": {\"outlinewidth\": 0, \"ticks\": \"\"}}, \"marker\": {\"colorbar\": {\"outlinewidth\": 0, \"ticks\": \"\"}}, \"type\": \"scatter3d\"}], \"scattercarpet\": [{\"marker\": {\"colorbar\": {\"outlinewidth\": 0, \"ticks\": \"\"}}, \"type\": \"scattercarpet\"}], \"scattergeo\": [{\"marker\": {\"colorbar\": {\"outlinewidth\": 0, \"ticks\": \"\"}}, \"type\": \"scattergeo\"}], \"scattergl\": [{\"marker\": {\"colorbar\": {\"outlinewidth\": 0, \"ticks\": \"\"}}, \"type\": \"scattergl\"}], \"scattermapbox\": [{\"marker\": {\"colorbar\": {\"outlinewidth\": 0, \"ticks\": \"\"}}, \"type\": \"scattermapbox\"}], \"scatterpolar\": [{\"marker\": {\"colorbar\": {\"outlinewidth\": 0, \"ticks\": \"\"}}, \"type\": \"scatterpolar\"}], \"scatterpolargl\": [{\"marker\": {\"colorbar\": {\"outlinewidth\": 0, \"ticks\": \"\"}}, \"type\": \"scatterpolargl\"}], \"scatterternary\": [{\"marker\": {\"colorbar\": {\"outlinewidth\": 0, \"ticks\": \"\"}}, \"type\": \"scatterternary\"}], \"surface\": [{\"colorbar\": {\"outlinewidth\": 0, \"ticks\": \"\"}, \"colorscale\": [[0.0, \"#0d0887\"], [0.1111111111111111, \"#46039f\"], [0.2222222222222222, \"#7201a8\"], [0.3333333333333333, \"#9c179e\"], [0.4444444444444444, \"#bd3786\"], [0.5555555555555556, \"#d8576b\"], [0.6666666666666666, \"#ed7953\"], [0.7777777777777778, \"#fb9f3a\"], [0.8888888888888888, \"#fdca26\"], [1.0, \"#f0f921\"]], \"type\": \"surface\"}], \"table\": [{\"cells\": {\"fill\": {\"color\": \"#EBF0F8\"}, \"line\": {\"color\": \"white\"}}, \"header\": {\"fill\": {\"color\": \"#C8D4E3\"}, \"line\": {\"color\": \"white\"}}, \"type\": \"table\"}]}, \"layout\": {\"annotationdefaults\": {\"arrowcolor\": \"#2a3f5f\", \"arrowhead\": 0, \"arrowwidth\": 1}, \"coloraxis\": {\"colorbar\": {\"outlinewidth\": 0, \"ticks\": \"\"}}, \"colorscale\": {\"diverging\": [[0, \"#8e0152\"], [0.1, \"#c51b7d\"], [0.2, \"#de77ae\"], [0.3, \"#f1b6da\"], [0.4, \"#fde0ef\"], [0.5, \"#f7f7f7\"], [0.6, \"#e6f5d0\"], [0.7, \"#b8e186\"], [0.8, \"#7fbc41\"], [0.9, \"#4d9221\"], [1, \"#276419\"]], \"sequential\": [[0.0, \"#0d0887\"], [0.1111111111111111, \"#46039f\"], [0.2222222222222222, \"#7201a8\"], [0.3333333333333333, \"#9c179e\"], [0.4444444444444444, \"#bd3786\"], [0.5555555555555556, \"#d8576b\"], [0.6666666666666666, \"#ed7953\"], [0.7777777777777778, \"#fb9f3a\"], [0.8888888888888888, \"#fdca26\"], [1.0, \"#f0f921\"]], \"sequentialminus\": [[0.0, \"#0d0887\"], [0.1111111111111111, \"#46039f\"], [0.2222222222222222, \"#7201a8\"], [0.3333333333333333, \"#9c179e\"], [0.4444444444444444, \"#bd3786\"], [0.5555555555555556, \"#d8576b\"], [0.6666666666666666, \"#ed7953\"], [0.7777777777777778, \"#fb9f3a\"], [0.8888888888888888, \"#fdca26\"], [1.0, \"#f0f921\"]]}, \"colorway\": [\"#636efa\", \"#EF553B\", \"#00cc96\", \"#ab63fa\", \"#FFA15A\", \"#19d3f3\", \"#FF6692\", \"#B6E880\", \"#FF97FF\", \"#FECB52\"], \"font\": {\"color\": \"#2a3f5f\"}, \"geo\": {\"bgcolor\": \"white\", \"lakecolor\": \"white\", \"landcolor\": \"#E5ECF6\", \"showlakes\": true, \"showland\": true, \"subunitcolor\": \"white\"}, \"hoverlabel\": {\"align\": \"left\"}, \"hovermode\": \"closest\", \"mapbox\": {\"style\": \"light\"}, \"paper_bgcolor\": \"white\", \"plot_bgcolor\": \"#E5ECF6\", \"polar\": {\"angularaxis\": {\"gridcolor\": \"white\", \"linecolor\": \"white\", \"ticks\": \"\"}, \"bgcolor\": \"#E5ECF6\", \"radialaxis\": {\"gridcolor\": \"white\", \"linecolor\": \"white\", \"ticks\": \"\"}}, \"scene\": {\"xaxis\": {\"backgroundcolor\": \"#E5ECF6\", \"gridcolor\": \"white\", \"gridwidth\": 2, \"linecolor\": \"white\", \"showbackground\": true, \"ticks\": \"\", \"zerolinecolor\": \"white\"}, \"yaxis\": {\"backgroundcolor\": \"#E5ECF6\", \"gridcolor\": \"white\", \"gridwidth\": 2, \"linecolor\": \"white\", \"showbackground\": true, \"ticks\": \"\", \"zerolinecolor\": \"white\"}, \"zaxis\": {\"backgroundcolor\": \"#E5ECF6\", \"gridcolor\": \"white\", \"gridwidth\": 2, \"linecolor\": \"white\", \"showbackground\": true, \"ticks\": \"\", \"zerolinecolor\": \"white\"}}, \"shapedefaults\": {\"line\": {\"color\": \"#2a3f5f\"}}, \"ternary\": {\"aaxis\": {\"gridcolor\": \"white\", \"linecolor\": \"white\", \"ticks\": \"\"}, \"baxis\": {\"gridcolor\": \"white\", \"linecolor\": \"white\", \"ticks\": \"\"}, \"bgcolor\": \"#E5ECF6\", \"caxis\": {\"gridcolor\": \"white\", \"linecolor\": \"white\", \"ticks\": \"\"}}, \"title\": {\"x\": 0.05}, \"xaxis\": {\"automargin\": true, \"gridcolor\": \"white\", \"linecolor\": \"white\", \"ticks\": \"\", \"title\": {\"standoff\": 15}, \"zerolinecolor\": \"white\", \"zerolinewidth\": 2}, \"yaxis\": {\"automargin\": true, \"gridcolor\": \"white\", \"linecolor\": \"white\", \"ticks\": \"\", \"title\": {\"standoff\": 15}, \"zerolinecolor\": \"white\", \"zerolinewidth\": 2}}}},\n",
              "                        {\"responsive\": true}\n",
              "                    ).then(function(){\n",
              "                            \n",
              "var gd = document.getElementById('65502045-6fb7-4dab-8dbc-2ba92dd08ea6');\n",
              "var x = new MutationObserver(function (mutations, observer) {{\n",
              "        var display = window.getComputedStyle(gd).display;\n",
              "        if (!display || display === 'none') {{\n",
              "            console.log([gd, 'removed!']);\n",
              "            Plotly.purge(gd);\n",
              "            observer.disconnect();\n",
              "        }}\n",
              "}});\n",
              "\n",
              "// Listen for the removal of the full notebook cells\n",
              "var notebookContainer = gd.closest('#notebook-container');\n",
              "if (notebookContainer) {{\n",
              "    x.observe(notebookContainer, {childList: true});\n",
              "}}\n",
              "\n",
              "// Listen for the clearing of the current output cell\n",
              "var outputEl = gd.closest('.output');\n",
              "if (outputEl) {{\n",
              "    x.observe(outputEl, {childList: true});\n",
              "}}\n",
              "\n",
              "                        })\n",
              "                };\n",
              "                \n",
              "            </script>\n",
              "        </div>\n",
              "</body>\n",
              "</html>"
            ]
          },
          "metadata": {
            "tags": []
          }
        }
      ]
    },
    {
      "cell_type": "code",
      "metadata": {
        "id": "JDLR47idox-F",
        "colab_type": "code",
        "outputId": "20b540f3-ebb7-4841-baf6-847620ff7b46",
        "colab": {
          "base_uri": "https://localhost:8080/",
          "height": 543
        }
      },
      "source": [
        "latent_trend = ((heikin_ashi_dataset['Close'] - heikin_ashi_dataset['Open']) > 0).astype(int)\n",
        "plt.plot(latent_trend)\n",
        "latent_trend"
      ],
      "execution_count": 9,
      "outputs": [
        {
          "output_type": "execute_result",
          "data": {
            "text/plain": [
              "2020-03-17 22:27:00    0\n",
              "2020-03-17 22:28:00    0\n",
              "2020-03-17 22:29:00    1\n",
              "2020-03-17 22:30:00    1\n",
              "2020-03-17 22:31:00    1\n",
              "2020-03-17 22:32:00    1\n",
              "2020-03-17 22:33:00    1\n",
              "2020-03-17 22:34:00    1\n",
              "2020-03-17 22:35:00    0\n",
              "2020-03-17 22:36:00    0\n",
              "2020-03-17 22:37:00    0\n",
              "2020-03-17 22:38:00    0\n",
              "2020-03-17 22:39:00    0\n",
              "2020-03-17 22:40:00    0\n",
              "2020-03-17 22:41:00    1\n",
              "dtype: int64"
            ]
          },
          "metadata": {
            "tags": []
          },
          "execution_count": 9
        },
        {
          "output_type": "display_data",
          "data": {
            "image/png": "[encoded data removed]",
            "text/plain": [
              "<Figure size 432x288 with 1 Axes>"
            ]
          },
          "metadata": {
            "tags": []
          }
        }
      ]
    },
    {
      "cell_type": "code",
      "metadata": {
        "id": "dGFr0Z9dqY9d",
        "colab_type": "code",
        "outputId": "1aa211e9-5d29-48c9-bd80-2f393df05511",
        "colab": {
          "base_uri": "https://localhost:8080/",
          "height": 543
        }
      },
      "source": [
        "latest_trend = (heikin_ashi_dataset['High'] == heikin_ashi_dataset['Close']).astype(int)\n",
        "plt.plot(latest_trend)\n",
        "latest_trend"
      ],
      "execution_count": 10,
      "outputs": [
        {
          "output_type": "execute_result",
          "data": {
            "text/plain": [
              "2020-03-17 22:27:00    0\n",
              "2020-03-17 22:28:00    0\n",
              "2020-03-17 22:29:00    0\n",
              "2020-03-17 22:30:00    0\n",
              "2020-03-17 22:31:00    0\n",
              "2020-03-17 22:32:00    0\n",
              "2020-03-17 22:33:00    0\n",
              "2020-03-17 22:34:00    0\n",
              "2020-03-17 22:35:00    0\n",
              "2020-03-17 22:36:00    0\n",
              "2020-03-17 22:37:00    0\n",
              "2020-03-17 22:38:00    0\n",
              "2020-03-17 22:39:00    0\n",
              "2020-03-17 22:40:00    0\n",
              "2020-03-17 22:41:00    0\n",
              "dtype: int64"
            ]
          },
          "metadata": {
            "tags": []
          },
          "execution_count": 10
        },
        {
          "output_type": "display_data",
          "data": {
            "image/png": "[encoded data removed]",
            "text/plain": [
              "<Figure size 432x288 with 1 Axes>"
            ]
          },
          "metadata": {
            "tags": []
          }
        }
      ]
    },
    {
      "cell_type": "code",
      "metadata": {
        "id": "ekhNYhPfrSV3",
        "colab_type": "code",
        "outputId": "38a767a1-58d1-42d7-b391-00856f699004",
        "colab": {
          "base_uri": "https://localhost:8080/",
          "height": 543
        }
      },
      "source": [
        "buy_position = latent_trend & latest_trend\n",
        "plt.plot(buy_position)\n",
        "buy_position"
      ],
      "execution_count": 11,
      "outputs": [
        {
          "output_type": "execute_result",
          "data": {
            "text/plain": [
              "2020-03-17 22:27:00    0\n",
              "2020-03-17 22:28:00    0\n",
              "2020-03-17 22:29:00    0\n",
              "2020-03-17 22:30:00    0\n",
              "2020-03-17 22:31:00    0\n",
              "2020-03-17 22:32:00    0\n",
              "2020-03-17 22:33:00    0\n",
              "2020-03-17 22:34:00    0\n",
              "2020-03-17 22:35:00    0\n",
              "2020-03-17 22:36:00    0\n",
              "2020-03-17 22:37:00    0\n",
              "2020-03-17 22:38:00    0\n",
              "2020-03-17 22:39:00    0\n",
              "2020-03-17 22:40:00    0\n",
              "2020-03-17 22:41:00    0\n",
              "dtype: int64"
            ]
          },
          "metadata": {
            "tags": []
          },
          "execution_count": 11
        },
        {
          "output_type": "display_data",
          "data": {
            "image/png": "[encoded data removed]",
            "text/plain": [
              "<Figure size 432x288 with 1 Axes>"
            ]
          },
          "metadata": {
            "tags": []
          }
        }
      ]
    },
    {
      "cell_type": "code",
      "metadata": {
        "id": "MpBBCjK5Zffa",
        "colab_type": "code",
        "colab": {}
      },
      "source": [
        ""
      ],
      "execution_count": 0,
      "outputs": []
    }
  ]
}