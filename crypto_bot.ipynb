{
  "nbformat": 4,
  "nbformat_minor": 0,
  "metadata": {
    "colab": {
      "name": "crypto_bot",
      "provenance": [],
      "collapsed_sections": [],
      "authorship_tag": "ABX9TyPj5S8AA+vmzbrVyzu0nGkE",
      "include_colab_link": true
    },
    "kernelspec": {
      "name": "python3",
      "display_name": "Python 3"
    }
  },
  "cells": [
    {
      "cell_type": "markdown",
      "metadata": {
        "id": "view-in-github",
        "colab_type": "text"
      },
      "source": [
        "<a href=\"https://colab.research.google.com/github/abstractguy/crypto_bot/blob/master/crypto_bot.ipynb\" target=\"_parent\"><img src=\"https://colab.research.google.com/assets/colab-badge.svg\" alt=\"Open In Colab\"/></a>"
      ]
    },
    {
      "cell_type": "markdown",
      "metadata": {
        "id": "jKtLwsCCqsmH",
        "colab_type": "text"
      },
      "source": [
        "Cryptocurrency trading bot."
      ]
    },
    {
      "cell_type": "markdown",
      "metadata": {
        "id": "8cjXevL7q3ZQ",
        "colab_type": "text"
      },
      "source": [
        "Hardcoded parameters."
      ]
    },
    {
      "cell_type": "code",
      "metadata": {
        "id": "OGuarqPrqrT8",
        "colab_type": "code",
        "colab": {}
      },
      "source": [
        "symbol = 'BTCUSDT'\n",
        "period = '15 minutes ago UTC'\n",
        "interval = '1m'\n",
        "api_key = 'yoyoyo'\n",
        "api_secret = 'yeyeye'"
      ],
      "execution_count": 0,
      "outputs": []
    },
    {
      "cell_type": "markdown",
      "metadata": {
        "id": "-RT2OABArdNU",
        "colab_type": "text"
      },
      "source": [
        "Installs."
      ]
    },
    {
      "cell_type": "code",
      "metadata": {
        "id": "v3A6tYLrq7zd",
        "colab_type": "code",
        "outputId": "2aa92f29-9f9a-4164-c80b-d92a39a77a2d",
        "colab": {
          "base_uri": "https://localhost:8080/",
          "height": 538
        }
      },
      "source": [
        "!pip install python-binance --upgrade --no-cache-dir"
      ],
      "execution_count": 2,
      "outputs": [
        {
          "output_type": "stream",
          "text": [
            "Requirement already up-to-date: python-binance in /usr/local/lib/python3.6/dist-packages (0.7.5)\n",
            "Requirement already satisfied, skipping upgrade: certifi in /usr/local/lib/python3.6/dist-packages (from python-binance) (2019.11.28)\n",
            "Requirement already satisfied, skipping upgrade: urllib3 in /usr/local/lib/python3.6/dist-packages (from python-binance) (1.24.3)\n",
            "Requirement already satisfied, skipping upgrade: cryptography in /usr/local/lib/python3.6/dist-packages (from python-binance) (2.8)\n",
            "Requirement already satisfied, skipping upgrade: autobahn in /usr/local/lib/python3.6/dist-packages (from python-binance) (20.3.1)\n",
            "Requirement already satisfied, skipping upgrade: requests in /usr/local/lib/python3.6/dist-packages (from python-binance) (2.21.0)\n",
            "Requirement already satisfied, skipping upgrade: dateparser in /usr/local/lib/python3.6/dist-packages (from python-binance) (0.7.4)\n",
            "Requirement already satisfied, skipping upgrade: Twisted in /usr/local/lib/python3.6/dist-packages (from python-binance) (19.10.0)\n",
            "Requirement already satisfied, skipping upgrade: six in /usr/local/lib/python3.6/dist-packages (from python-binance) (1.12.0)\n",
            "Requirement already satisfied, skipping upgrade: service-identity in /usr/local/lib/python3.6/dist-packages (from python-binance) (18.1.0)\n",
            "Requirement already satisfied, skipping upgrade: pyOpenSSL in /usr/local/lib/python3.6/dist-packages (from python-binance) (19.1.0)\n",
            "Requirement already satisfied, skipping upgrade: cffi!=1.11.3,>=1.8 in /usr/local/lib/python3.6/dist-packages (from cryptography->python-binance) (1.14.0)\n",
            "Requirement already satisfied, skipping upgrade: txaio>=20.1.1 in /usr/local/lib/python3.6/dist-packages (from autobahn->python-binance) (20.1.1)\n",
            "Requirement already satisfied, skipping upgrade: chardet<3.1.0,>=3.0.2 in /usr/local/lib/python3.6/dist-packages (from requests->python-binance) (3.0.4)\n",
            "Requirement already satisfied, skipping upgrade: idna<2.9,>=2.5 in /usr/local/lib/python3.6/dist-packages (from requests->python-binance) (2.8)\n",
            "Requirement already satisfied, skipping upgrade: pytz in /usr/local/lib/python3.6/dist-packages (from dateparser->python-binance) (2018.9)\n",
            "Requirement already satisfied, skipping upgrade: python-dateutil in /usr/local/lib/python3.6/dist-packages (from dateparser->python-binance) (2.8.1)\n",
            "Requirement already satisfied, skipping upgrade: tzlocal in /usr/local/lib/python3.6/dist-packages (from dateparser->python-binance) (1.5.1)\n",
            "Requirement already satisfied, skipping upgrade: regex!=2019.02.19 in /usr/local/lib/python3.6/dist-packages (from dateparser->python-binance) (2019.12.20)\n",
            "Requirement already satisfied, skipping upgrade: constantly>=15.1 in /usr/local/lib/python3.6/dist-packages (from Twisted->python-binance) (15.1.0)\n",
            "Requirement already satisfied, skipping upgrade: incremental>=16.10.1 in /usr/local/lib/python3.6/dist-packages (from Twisted->python-binance) (17.5.0)\n",
            "Requirement already satisfied, skipping upgrade: PyHamcrest>=1.9.0 in /usr/local/lib/python3.6/dist-packages (from Twisted->python-binance) (2.0.2)\n",
            "Requirement already satisfied, skipping upgrade: attrs>=17.4.0 in /usr/local/lib/python3.6/dist-packages (from Twisted->python-binance) (19.3.0)\n",
            "Requirement already satisfied, skipping upgrade: zope.interface>=4.4.2 in /usr/local/lib/python3.6/dist-packages (from Twisted->python-binance) (4.7.2)\n",
            "Requirement already satisfied, skipping upgrade: Automat>=0.3.0 in /usr/local/lib/python3.6/dist-packages (from Twisted->python-binance) (20.2.0)\n",
            "Requirement already satisfied, skipping upgrade: hyperlink>=17.1.1 in /usr/local/lib/python3.6/dist-packages (from Twisted->python-binance) (19.0.0)\n",
            "Requirement already satisfied, skipping upgrade: pyasn1 in /usr/local/lib/python3.6/dist-packages (from service-identity->python-binance) (0.4.8)\n",
            "Requirement already satisfied, skipping upgrade: pyasn1-modules in /usr/local/lib/python3.6/dist-packages (from service-identity->python-binance) (0.2.8)\n",
            "Requirement already satisfied, skipping upgrade: pycparser in /usr/local/lib/python3.6/dist-packages (from cffi!=1.11.3,>=1.8->cryptography->python-binance) (2.20)\n",
            "Requirement already satisfied, skipping upgrade: setuptools in /usr/local/lib/python3.6/dist-packages (from zope.interface>=4.4.2->Twisted->python-binance) (45.2.0)\n"
          ],
          "name": "stdout"
        }
      ]
    },
    {
      "cell_type": "markdown",
      "metadata": {
        "id": "4NCI6E0krnqz",
        "colab_type": "text"
      },
      "source": [
        "Library imports."
      ]
    },
    {
      "cell_type": "code",
      "metadata": {
        "id": "roqyi1bprb0q",
        "colab_type": "code",
        "colab": {}
      },
      "source": [
        "%matplotlib inline\n",
        "\n",
        "from binance.client import Client\n",
        "from binance.enums import *\n",
        "from binance.exceptions import BinanceAPIException\n",
        "from time import sleep\n",
        "\n",
        "import datetime\n",
        "import numpy as np\n",
        "import pandas as pd\n",
        "import matplotlib.pyplot as plt\n",
        "import plotly.graph_objects as go"
      ],
      "execution_count": 0,
      "outputs": []
    },
    {
      "cell_type": "markdown",
      "metadata": {
        "id": "DWsthLkwsf-l",
        "colab_type": "text"
      },
      "source": [
        "Function definitions."
      ]
    },
    {
      "cell_type": "code",
      "metadata": {
        "id": "zJc4WzqqqhoI",
        "colab_type": "code",
        "colab": {}
      },
      "source": [
        "def heikin_ashi(df):\n",
        "    df = df.tz_localize(tz=None, ambiguous='infer')\n",
        "    df = df[['Open', 'High', 'Low', 'Close']].copy().astype('float')\n",
        "    heikin_ashi_df = pd.DataFrame(index=df.index.values, columns=['Open', 'High', 'Low', 'Close'])\n",
        "    heikin_ashi_df['Close'] = (df['Open'] + df['High'] + df['Low'] + df['Close']) / 4\n",
        "\n",
        "    for i in range(len(df)):\n",
        "        if i == 0:\n",
        "            heikin_ashi_df.iat[0, 0] = df['Open'].iloc[0]\n",
        "        else:\n",
        "            heikin_ashi_df.iat[i, 0] = (heikin_ashi_df.iat[i - 1, 0] + heikin_ashi_df.iat[i - 1, 3]) / 2\n",
        "\n",
        "    heikin_ashi_df['High'] = heikin_ashi_df.loc[:, ['Open', 'Close']].join(df['High']).max(axis=1)\n",
        "    heikin_ashi_df['Low'] = heikin_ashi_df.loc[:, ['Open', 'Close']].join(df['Low']).min(axis=1)\n",
        "\n",
        "    return heikin_ashi_df\n",
        "\n",
        "def download_dataset(symbol=symbol):\n",
        "    dataset_downloaded = \\\n",
        "        client.get_historical_klines(symbol=symbol, \n",
        "                                     interval=interval, \n",
        "                                     start_str=period)\n",
        "\n",
        "    dataset_downloaded = pd.DataFrame(dataset_downloaded, \n",
        "                                      columns=['time', \n",
        "                                               'Open', \n",
        "                                               'High', \n",
        "                                               'Low', \n",
        "                                               'Close', \n",
        "                                               'Volume', \n",
        "                                               'Close time', \n",
        "                                               'Quote asset volume', \n",
        "                                               'Number of trades', \n",
        "                                               'Taker buy base asset volume', \n",
        "                                               'Taker buy quote asset volume', \n",
        "                                               'Ignore'])\n",
        "\n",
        "    four_hours = 14400\n",
        "    milliseconds = 1000\n",
        "\n",
        "    dataset_downloaded['time'] = \\\n",
        "        dataset_downloaded['time'].apply(lambda timestamp: \\\n",
        "                                         datetime.datetime.fromtimestamp((timestamp / \\\n",
        "                                                                          milliseconds) - \\\n",
        "                                                                         four_hours))\n",
        "\n",
        "    dataset_downloaded = dataset_downloaded[['time', \n",
        "                                             'Open', \n",
        "                                             'High', \n",
        "                                             'Low', \n",
        "                                             'Close', \n",
        "                                             'Volume', \n",
        "                                             'Number of trades']]\n",
        "\n",
        "    dataset_downloaded.set_index('time', inplace=True)\n",
        "\n",
        "    return dataset_downloaded"
      ],
      "execution_count": 0,
      "outputs": []
    },
    {
      "cell_type": "markdown",
      "metadata": {
        "id": "z4eWTY7yswwW",
        "colab_type": "text"
      },
      "source": [
        "Download cryptocurrency symbol data."
      ]
    },
    {
      "cell_type": "code",
      "metadata": {
        "id": "k1Qcy80FI5CT",
        "colab_type": "code",
        "colab": {
          "base_uri": "https://localhost:8080/",
          "height": 551
        },
        "outputId": "0671aa5f-3fb4-428b-9b5e-dd5517e663a1"
      },
      "source": [
        "client = Client(api_key, api_secret)\n",
        "dataset_downloaded = download_dataset()\n",
        "dataset_downloaded"
      ],
      "execution_count": 5,
      "outputs": [
        {
          "output_type": "execute_result",
          "data": {
            "text/html": [
              "<div>\n",
              "<style scoped>\n",
              "    .dataframe tbody tr th:only-of-type {\n",
              "        vertical-align: middle;\n",
              "    }\n",
              "\n",
              "    .dataframe tbody tr th {\n",
              "        vertical-align: top;\n",
              "    }\n",
              "\n",
              "    .dataframe thead th {\n",
              "        text-align: right;\n",
              "    }\n",
              "</style>\n",
              "<table border=\"1\" class=\"dataframe\">\n",
              "  <thead>\n",
              "    <tr style=\"text-align: right;\">\n",
              "      <th></th>\n",
              "      <th>Open</th>\n",
              "      <th>High</th>\n",
              "      <th>Low</th>\n",
              "      <th>Close</th>\n",
              "      <th>Volume</th>\n",
              "      <th>Number of trades</th>\n",
              "    </tr>\n",
              "    <tr>\n",
              "      <th>time</th>\n",
              "      <th></th>\n",
              "      <th></th>\n",
              "      <th></th>\n",
              "      <th></th>\n",
              "      <th></th>\n",
              "      <th></th>\n",
              "    </tr>\n",
              "  </thead>\n",
              "  <tbody>\n",
              "    <tr>\n",
              "      <th>2020-03-18 00:15:00</th>\n",
              "      <td>5383.05000000</td>\n",
              "      <td>5384.91000000</td>\n",
              "      <td>5382.02000000</td>\n",
              "      <td>5382.95000000</td>\n",
              "      <td>12.47245200</td>\n",
              "      <td>192</td>\n",
              "    </tr>\n",
              "    <tr>\n",
              "      <th>2020-03-18 00:16:00</th>\n",
              "      <td>5383.73000000</td>\n",
              "      <td>5383.73000000</td>\n",
              "      <td>5375.13000000</td>\n",
              "      <td>5376.30000000</td>\n",
              "      <td>26.35065800</td>\n",
              "      <td>264</td>\n",
              "    </tr>\n",
              "    <tr>\n",
              "      <th>2020-03-18 00:17:00</th>\n",
              "      <td>5376.20000000</td>\n",
              "      <td>5383.20000000</td>\n",
              "      <td>5375.00000000</td>\n",
              "      <td>5379.52000000</td>\n",
              "      <td>49.15164900</td>\n",
              "      <td>289</td>\n",
              "    </tr>\n",
              "    <tr>\n",
              "      <th>2020-03-18 00:18:00</th>\n",
              "      <td>5379.52000000</td>\n",
              "      <td>5381.13000000</td>\n",
              "      <td>5376.00000000</td>\n",
              "      <td>5381.13000000</td>\n",
              "      <td>30.61545900</td>\n",
              "      <td>214</td>\n",
              "    </tr>\n",
              "    <tr>\n",
              "      <th>2020-03-18 00:19:00</th>\n",
              "      <td>5381.13000000</td>\n",
              "      <td>5382.97000000</td>\n",
              "      <td>5377.22000000</td>\n",
              "      <td>5378.53000000</td>\n",
              "      <td>18.10331300</td>\n",
              "      <td>152</td>\n",
              "    </tr>\n",
              "    <tr>\n",
              "      <th>2020-03-18 00:20:00</th>\n",
              "      <td>5378.53000000</td>\n",
              "      <td>5378.91000000</td>\n",
              "      <td>5365.71000000</td>\n",
              "      <td>5367.00000000</td>\n",
              "      <td>48.59691000</td>\n",
              "      <td>466</td>\n",
              "    </tr>\n",
              "    <tr>\n",
              "      <th>2020-03-18 00:21:00</th>\n",
              "      <td>5367.56000000</td>\n",
              "      <td>5377.58000000</td>\n",
              "      <td>5366.64000000</td>\n",
              "      <td>5374.26000000</td>\n",
              "      <td>56.89480100</td>\n",
              "      <td>391</td>\n",
              "    </tr>\n",
              "    <tr>\n",
              "      <th>2020-03-18 00:22:00</th>\n",
              "      <td>5373.80000000</td>\n",
              "      <td>5378.37000000</td>\n",
              "      <td>5372.17000000</td>\n",
              "      <td>5377.38000000</td>\n",
              "      <td>14.59555800</td>\n",
              "      <td>201</td>\n",
              "    </tr>\n",
              "    <tr>\n",
              "      <th>2020-03-18 00:23:00</th>\n",
              "      <td>5377.29000000</td>\n",
              "      <td>5385.00000000</td>\n",
              "      <td>5375.17000000</td>\n",
              "      <td>5384.91000000</td>\n",
              "      <td>26.86698900</td>\n",
              "      <td>186</td>\n",
              "    </tr>\n",
              "    <tr>\n",
              "      <th>2020-03-18 00:24:00</th>\n",
              "      <td>5383.40000000</td>\n",
              "      <td>5389.35000000</td>\n",
              "      <td>5382.39000000</td>\n",
              "      <td>5386.65000000</td>\n",
              "      <td>20.78540100</td>\n",
              "      <td>280</td>\n",
              "    </tr>\n",
              "    <tr>\n",
              "      <th>2020-03-18 00:25:00</th>\n",
              "      <td>5386.49000000</td>\n",
              "      <td>5386.49000000</td>\n",
              "      <td>5382.51000000</td>\n",
              "      <td>5384.99000000</td>\n",
              "      <td>10.07450900</td>\n",
              "      <td>181</td>\n",
              "    </tr>\n",
              "    <tr>\n",
              "      <th>2020-03-18 00:26:00</th>\n",
              "      <td>5384.90000000</td>\n",
              "      <td>5387.08000000</td>\n",
              "      <td>5381.47000000</td>\n",
              "      <td>5385.79000000</td>\n",
              "      <td>20.92308600</td>\n",
              "      <td>178</td>\n",
              "    </tr>\n",
              "    <tr>\n",
              "      <th>2020-03-18 00:27:00</th>\n",
              "      <td>5385.24000000</td>\n",
              "      <td>5386.18000000</td>\n",
              "      <td>5377.57000000</td>\n",
              "      <td>5379.68000000</td>\n",
              "      <td>29.94753400</td>\n",
              "      <td>269</td>\n",
              "    </tr>\n",
              "    <tr>\n",
              "      <th>2020-03-18 00:28:00</th>\n",
              "      <td>5379.63000000</td>\n",
              "      <td>5383.11000000</td>\n",
              "      <td>5378.61000000</td>\n",
              "      <td>5381.69000000</td>\n",
              "      <td>8.01948600</td>\n",
              "      <td>140</td>\n",
              "    </tr>\n",
              "    <tr>\n",
              "      <th>2020-03-18 00:29:00</th>\n",
              "      <td>5381.73000000</td>\n",
              "      <td>5385.17000000</td>\n",
              "      <td>5381.70000000</td>\n",
              "      <td>5384.76000000</td>\n",
              "      <td>5.03810700</td>\n",
              "      <td>58</td>\n",
              "    </tr>\n",
              "  </tbody>\n",
              "</table>\n",
              "</div>"
            ],
            "text/plain": [
              "                              Open  ... Number of trades\n",
              "time                                ...                 \n",
              "2020-03-18 00:15:00  5383.05000000  ...              192\n",
              "2020-03-18 00:16:00  5383.73000000  ...              264\n",
              "2020-03-18 00:17:00  5376.20000000  ...              289\n",
              "2020-03-18 00:18:00  5379.52000000  ...              214\n",
              "2020-03-18 00:19:00  5381.13000000  ...              152\n",
              "2020-03-18 00:20:00  5378.53000000  ...              466\n",
              "2020-03-18 00:21:00  5367.56000000  ...              391\n",
              "2020-03-18 00:22:00  5373.80000000  ...              201\n",
              "2020-03-18 00:23:00  5377.29000000  ...              186\n",
              "2020-03-18 00:24:00  5383.40000000  ...              280\n",
              "2020-03-18 00:25:00  5386.49000000  ...              181\n",
              "2020-03-18 00:26:00  5384.90000000  ...              178\n",
              "2020-03-18 00:27:00  5385.24000000  ...              269\n",
              "2020-03-18 00:28:00  5379.63000000  ...              140\n",
              "2020-03-18 00:29:00  5381.73000000  ...               58\n",
              "\n",
              "[15 rows x 6 columns]"
            ]
          },
          "metadata": {
            "tags": []
          },
          "execution_count": 5
        }
      ]
    },
    {
      "cell_type": "markdown",
      "metadata": {
        "id": "-hyQwK4Ntn4g",
        "colab_type": "text"
      },
      "source": [
        "Download testing area -->"
      ]
    },
    {
      "cell_type": "code",
      "metadata": {
        "id": "RD4N_tbItpIs",
        "colab_type": "code",
        "colab": {}
      },
      "source": [
        ""
      ],
      "execution_count": 0,
      "outputs": []
    },
    {
      "cell_type": "markdown",
      "metadata": {
        "id": "CHI7vgKutptt",
        "colab_type": "text"
      },
      "source": [
        "<-- End of download testing area."
      ]
    },
    {
      "cell_type": "markdown",
      "metadata": {
        "id": "48jZWtC4tsWE",
        "colab_type": "text"
      },
      "source": [
        "*** To avoid downloading multiple times, restart here. ***"
      ]
    },
    {
      "cell_type": "code",
      "metadata": {
        "id": "SCf0xuxyuG2j",
        "colab_type": "code",
        "outputId": "dbce536f-1179-46ab-ed55-3116e8742cda",
        "colab": {
          "base_uri": "https://localhost:8080/",
          "height": 551
        }
      },
      "source": [
        "dataset = dataset_downloaded.copy()\n",
        "dataset"
      ],
      "execution_count": 6,
      "outputs": [
        {
          "output_type": "execute_result",
          "data": {
            "text/html": [
              "<div>\n",
              "<style scoped>\n",
              "    .dataframe tbody tr th:only-of-type {\n",
              "        vertical-align: middle;\n",
              "    }\n",
              "\n",
              "    .dataframe tbody tr th {\n",
              "        vertical-align: top;\n",
              "    }\n",
              "\n",
              "    .dataframe thead th {\n",
              "        text-align: right;\n",
              "    }\n",
              "</style>\n",
              "<table border=\"1\" class=\"dataframe\">\n",
              "  <thead>\n",
              "    <tr style=\"text-align: right;\">\n",
              "      <th></th>\n",
              "      <th>Open</th>\n",
              "      <th>High</th>\n",
              "      <th>Low</th>\n",
              "      <th>Close</th>\n",
              "      <th>Volume</th>\n",
              "      <th>Number of trades</th>\n",
              "    </tr>\n",
              "    <tr>\n",
              "      <th>time</th>\n",
              "      <th></th>\n",
              "      <th></th>\n",
              "      <th></th>\n",
              "      <th></th>\n",
              "      <th></th>\n",
              "      <th></th>\n",
              "    </tr>\n",
              "  </thead>\n",
              "  <tbody>\n",
              "    <tr>\n",
              "      <th>2020-03-18 00:15:00</th>\n",
              "      <td>5383.05000000</td>\n",
              "      <td>5384.91000000</td>\n",
              "      <td>5382.02000000</td>\n",
              "      <td>5382.95000000</td>\n",
              "      <td>12.47245200</td>\n",
              "      <td>192</td>\n",
              "    </tr>\n",
              "    <tr>\n",
              "      <th>2020-03-18 00:16:00</th>\n",
              "      <td>5383.73000000</td>\n",
              "      <td>5383.73000000</td>\n",
              "      <td>5375.13000000</td>\n",
              "      <td>5376.30000000</td>\n",
              "      <td>26.35065800</td>\n",
              "      <td>264</td>\n",
              "    </tr>\n",
              "    <tr>\n",
              "      <th>2020-03-18 00:17:00</th>\n",
              "      <td>5376.20000000</td>\n",
              "      <td>5383.20000000</td>\n",
              "      <td>5375.00000000</td>\n",
              "      <td>5379.52000000</td>\n",
              "      <td>49.15164900</td>\n",
              "      <td>289</td>\n",
              "    </tr>\n",
              "    <tr>\n",
              "      <th>2020-03-18 00:18:00</th>\n",
              "      <td>5379.52000000</td>\n",
              "      <td>5381.13000000</td>\n",
              "      <td>5376.00000000</td>\n",
              "      <td>5381.13000000</td>\n",
              "      <td>30.61545900</td>\n",
              "      <td>214</td>\n",
              "    </tr>\n",
              "    <tr>\n",
              "      <th>2020-03-18 00:19:00</th>\n",
              "      <td>5381.13000000</td>\n",
              "      <td>5382.97000000</td>\n",
              "      <td>5377.22000000</td>\n",
              "      <td>5378.53000000</td>\n",
              "      <td>18.10331300</td>\n",
              "      <td>152</td>\n",
              "    </tr>\n",
              "    <tr>\n",
              "      <th>2020-03-18 00:20:00</th>\n",
              "      <td>5378.53000000</td>\n",
              "      <td>5378.91000000</td>\n",
              "      <td>5365.71000000</td>\n",
              "      <td>5367.00000000</td>\n",
              "      <td>48.59691000</td>\n",
              "      <td>466</td>\n",
              "    </tr>\n",
              "    <tr>\n",
              "      <th>2020-03-18 00:21:00</th>\n",
              "      <td>5367.56000000</td>\n",
              "      <td>5377.58000000</td>\n",
              "      <td>5366.64000000</td>\n",
              "      <td>5374.26000000</td>\n",
              "      <td>56.89480100</td>\n",
              "      <td>391</td>\n",
              "    </tr>\n",
              "    <tr>\n",
              "      <th>2020-03-18 00:22:00</th>\n",
              "      <td>5373.80000000</td>\n",
              "      <td>5378.37000000</td>\n",
              "      <td>5372.17000000</td>\n",
              "      <td>5377.38000000</td>\n",
              "      <td>14.59555800</td>\n",
              "      <td>201</td>\n",
              "    </tr>\n",
              "    <tr>\n",
              "      <th>2020-03-18 00:23:00</th>\n",
              "      <td>5377.29000000</td>\n",
              "      <td>5385.00000000</td>\n",
              "      <td>5375.17000000</td>\n",
              "      <td>5384.91000000</td>\n",
              "      <td>26.86698900</td>\n",
              "      <td>186</td>\n",
              "    </tr>\n",
              "    <tr>\n",
              "      <th>2020-03-18 00:24:00</th>\n",
              "      <td>5383.40000000</td>\n",
              "      <td>5389.35000000</td>\n",
              "      <td>5382.39000000</td>\n",
              "      <td>5386.65000000</td>\n",
              "      <td>20.78540100</td>\n",
              "      <td>280</td>\n",
              "    </tr>\n",
              "    <tr>\n",
              "      <th>2020-03-18 00:25:00</th>\n",
              "      <td>5386.49000000</td>\n",
              "      <td>5386.49000000</td>\n",
              "      <td>5382.51000000</td>\n",
              "      <td>5384.99000000</td>\n",
              "      <td>10.07450900</td>\n",
              "      <td>181</td>\n",
              "    </tr>\n",
              "    <tr>\n",
              "      <th>2020-03-18 00:26:00</th>\n",
              "      <td>5384.90000000</td>\n",
              "      <td>5387.08000000</td>\n",
              "      <td>5381.47000000</td>\n",
              "      <td>5385.79000000</td>\n",
              "      <td>20.92308600</td>\n",
              "      <td>178</td>\n",
              "    </tr>\n",
              "    <tr>\n",
              "      <th>2020-03-18 00:27:00</th>\n",
              "      <td>5385.24000000</td>\n",
              "      <td>5386.18000000</td>\n",
              "      <td>5377.57000000</td>\n",
              "      <td>5379.68000000</td>\n",
              "      <td>29.94753400</td>\n",
              "      <td>269</td>\n",
              "    </tr>\n",
              "    <tr>\n",
              "      <th>2020-03-18 00:28:00</th>\n",
              "      <td>5379.63000000</td>\n",
              "      <td>5383.11000000</td>\n",
              "      <td>5378.61000000</td>\n",
              "      <td>5381.69000000</td>\n",
              "      <td>8.01948600</td>\n",
              "      <td>140</td>\n",
              "    </tr>\n",
              "    <tr>\n",
              "      <th>2020-03-18 00:29:00</th>\n",
              "      <td>5381.73000000</td>\n",
              "      <td>5385.17000000</td>\n",
              "      <td>5381.70000000</td>\n",
              "      <td>5384.76000000</td>\n",
              "      <td>5.03810700</td>\n",
              "      <td>58</td>\n",
              "    </tr>\n",
              "  </tbody>\n",
              "</table>\n",
              "</div>"
            ],
            "text/plain": [
              "                              Open  ... Number of trades\n",
              "time                                ...                 \n",
              "2020-03-18 00:15:00  5383.05000000  ...              192\n",
              "2020-03-18 00:16:00  5383.73000000  ...              264\n",
              "2020-03-18 00:17:00  5376.20000000  ...              289\n",
              "2020-03-18 00:18:00  5379.52000000  ...              214\n",
              "2020-03-18 00:19:00  5381.13000000  ...              152\n",
              "2020-03-18 00:20:00  5378.53000000  ...              466\n",
              "2020-03-18 00:21:00  5367.56000000  ...              391\n",
              "2020-03-18 00:22:00  5373.80000000  ...              201\n",
              "2020-03-18 00:23:00  5377.29000000  ...              186\n",
              "2020-03-18 00:24:00  5383.40000000  ...              280\n",
              "2020-03-18 00:25:00  5386.49000000  ...              181\n",
              "2020-03-18 00:26:00  5384.90000000  ...              178\n",
              "2020-03-18 00:27:00  5385.24000000  ...              269\n",
              "2020-03-18 00:28:00  5379.63000000  ...              140\n",
              "2020-03-18 00:29:00  5381.73000000  ...               58\n",
              "\n",
              "[15 rows x 6 columns]"
            ]
          },
          "metadata": {
            "tags": []
          },
          "execution_count": 6
        }
      ]
    },
    {
      "cell_type": "code",
      "metadata": {
        "id": "WPpQh6DmuffX",
        "colab_type": "code",
        "outputId": "c3f959c4-853a-4374-fdd0-19613c94f523",
        "colab": {
          "base_uri": "https://localhost:8080/",
          "height": 927
        }
      },
      "source": [
        "heikin_ashi_dataset = heikin_ashi(dataset)\n",
        "plt.plot(heikin_ashi_dataset)\n",
        "heikin_ashi_dataset"
      ],
      "execution_count": 7,
      "outputs": [
        {
          "output_type": "stream",
          "text": [
            "/usr/local/lib/python3.6/dist-packages/pandas/plotting/_matplotlib/converter.py:103: FutureWarning:\n",
            "\n",
            "Using an implicitly registered datetime converter for a matplotlib plotting method. The converter was registered by pandas on import. Future versions of pandas will require you to explicitly register matplotlib converters.\n",
            "\n",
            "To register the converters:\n",
            "\t>>> from pandas.plotting import register_matplotlib_converters\n",
            "\t>>> register_matplotlib_converters()\n",
            "\n"
          ],
          "name": "stderr"
        },
        {
          "output_type": "execute_result",
          "data": {
            "text/html": [
              "<div>\n",
              "<style scoped>\n",
              "    .dataframe tbody tr th:only-of-type {\n",
              "        vertical-align: middle;\n",
              "    }\n",
              "\n",
              "    .dataframe tbody tr th {\n",
              "        vertical-align: top;\n",
              "    }\n",
              "\n",
              "    .dataframe thead th {\n",
              "        text-align: right;\n",
              "    }\n",
              "</style>\n",
              "<table border=\"1\" class=\"dataframe\">\n",
              "  <thead>\n",
              "    <tr style=\"text-align: right;\">\n",
              "      <th></th>\n",
              "      <th>Open</th>\n",
              "      <th>High</th>\n",
              "      <th>Low</th>\n",
              "      <th>Close</th>\n",
              "    </tr>\n",
              "  </thead>\n",
              "  <tbody>\n",
              "    <tr>\n",
              "      <th>2020-03-18 00:15:00</th>\n",
              "      <td>5383.05</td>\n",
              "      <td>5384.910000</td>\n",
              "      <td>5382.020000</td>\n",
              "      <td>5383.2325</td>\n",
              "    </tr>\n",
              "    <tr>\n",
              "      <th>2020-03-18 00:16:00</th>\n",
              "      <td>5383.14</td>\n",
              "      <td>5383.730000</td>\n",
              "      <td>5375.130000</td>\n",
              "      <td>5379.7225</td>\n",
              "    </tr>\n",
              "    <tr>\n",
              "      <th>2020-03-18 00:17:00</th>\n",
              "      <td>5381.43</td>\n",
              "      <td>5383.200000</td>\n",
              "      <td>5375.000000</td>\n",
              "      <td>5378.4800</td>\n",
              "    </tr>\n",
              "    <tr>\n",
              "      <th>2020-03-18 00:18:00</th>\n",
              "      <td>5379.96</td>\n",
              "      <td>5381.130000</td>\n",
              "      <td>5376.000000</td>\n",
              "      <td>5379.4450</td>\n",
              "    </tr>\n",
              "    <tr>\n",
              "      <th>2020-03-18 00:19:00</th>\n",
              "      <td>5379.7</td>\n",
              "      <td>5382.970000</td>\n",
              "      <td>5377.220000</td>\n",
              "      <td>5379.9625</td>\n",
              "    </tr>\n",
              "    <tr>\n",
              "      <th>2020-03-18 00:20:00</th>\n",
              "      <td>5379.83</td>\n",
              "      <td>5379.831484</td>\n",
              "      <td>5365.710000</td>\n",
              "      <td>5372.5375</td>\n",
              "    </tr>\n",
              "    <tr>\n",
              "      <th>2020-03-18 00:21:00</th>\n",
              "      <td>5376.18</td>\n",
              "      <td>5377.580000</td>\n",
              "      <td>5366.640000</td>\n",
              "      <td>5371.5100</td>\n",
              "    </tr>\n",
              "    <tr>\n",
              "      <th>2020-03-18 00:22:00</th>\n",
              "      <td>5373.85</td>\n",
              "      <td>5378.370000</td>\n",
              "      <td>5372.170000</td>\n",
              "      <td>5375.4300</td>\n",
              "    </tr>\n",
              "    <tr>\n",
              "      <th>2020-03-18 00:23:00</th>\n",
              "      <td>5374.64</td>\n",
              "      <td>5385.000000</td>\n",
              "      <td>5374.638623</td>\n",
              "      <td>5380.5925</td>\n",
              "    </tr>\n",
              "    <tr>\n",
              "      <th>2020-03-18 00:24:00</th>\n",
              "      <td>5377.62</td>\n",
              "      <td>5389.350000</td>\n",
              "      <td>5377.615562</td>\n",
              "      <td>5385.4475</td>\n",
              "    </tr>\n",
              "    <tr>\n",
              "      <th>2020-03-18 00:25:00</th>\n",
              "      <td>5381.53</td>\n",
              "      <td>5386.490000</td>\n",
              "      <td>5381.531531</td>\n",
              "      <td>5385.1200</td>\n",
              "    </tr>\n",
              "    <tr>\n",
              "      <th>2020-03-18 00:26:00</th>\n",
              "      <td>5383.33</td>\n",
              "      <td>5387.080000</td>\n",
              "      <td>5381.470000</td>\n",
              "      <td>5384.8100</td>\n",
              "    </tr>\n",
              "    <tr>\n",
              "      <th>2020-03-18 00:27:00</th>\n",
              "      <td>5384.07</td>\n",
              "      <td>5386.180000</td>\n",
              "      <td>5377.570000</td>\n",
              "      <td>5382.1675</td>\n",
              "    </tr>\n",
              "    <tr>\n",
              "      <th>2020-03-18 00:28:00</th>\n",
              "      <td>5383.12</td>\n",
              "      <td>5383.117691</td>\n",
              "      <td>5378.610000</td>\n",
              "      <td>5380.7600</td>\n",
              "    </tr>\n",
              "    <tr>\n",
              "      <th>2020-03-18 00:29:00</th>\n",
              "      <td>5381.94</td>\n",
              "      <td>5385.170000</td>\n",
              "      <td>5381.700000</td>\n",
              "      <td>5383.3400</td>\n",
              "    </tr>\n",
              "  </tbody>\n",
              "</table>\n",
              "</div>"
            ],
            "text/plain": [
              "                        Open         High          Low      Close\n",
              "2020-03-18 00:15:00  5383.05  5384.910000  5382.020000  5383.2325\n",
              "2020-03-18 00:16:00  5383.14  5383.730000  5375.130000  5379.7225\n",
              "2020-03-18 00:17:00  5381.43  5383.200000  5375.000000  5378.4800\n",
              "2020-03-18 00:18:00  5379.96  5381.130000  5376.000000  5379.4450\n",
              "2020-03-18 00:19:00   5379.7  5382.970000  5377.220000  5379.9625\n",
              "2020-03-18 00:20:00  5379.83  5379.831484  5365.710000  5372.5375\n",
              "2020-03-18 00:21:00  5376.18  5377.580000  5366.640000  5371.5100\n",
              "2020-03-18 00:22:00  5373.85  5378.370000  5372.170000  5375.4300\n",
              "2020-03-18 00:23:00  5374.64  5385.000000  5374.638623  5380.5925\n",
              "2020-03-18 00:24:00  5377.62  5389.350000  5377.615562  5385.4475\n",
              "2020-03-18 00:25:00  5381.53  5386.490000  5381.531531  5385.1200\n",
              "2020-03-18 00:26:00  5383.33  5387.080000  5381.470000  5384.8100\n",
              "2020-03-18 00:27:00  5384.07  5386.180000  5377.570000  5382.1675\n",
              "2020-03-18 00:28:00  5383.12  5383.117691  5378.610000  5380.7600\n",
              "2020-03-18 00:29:00  5381.94  5385.170000  5381.700000  5383.3400"
            ]
          },
          "metadata": {
            "tags": []
          },
          "execution_count": 7
        },
        {
          "output_type": "display_data",
          "data": {
            "image/png": "[encoded data removed]",
            "text/plain": [
              "<Figure size 432x288 with 1 Axes>"
            ]
          },
          "metadata": {
            "tags": []
          }
        }
      ]
    },
    {
      "cell_type": "code",
      "metadata": {
        "id": "vnvi3pKx2GMl",
        "colab_type": "code",
        "outputId": "dcb7d5d4-4d0e-488a-9cba-f3b9dbadfc83",
        "colab": {
          "base_uri": "https://localhost:8080/",
          "height": 542
        }
      },
      "source": [
        "fig = go.Figure(data=[go.Candlestick(x=heikin_ashi_dataset.index.to_series(), \n",
        "                                     open=heikin_ashi_dataset['Open'], \n",
        "                                     high=heikin_ashi_dataset['High'], \n",
        "                                     low=heikin_ashi_dataset['Low'], \n",
        "                                     close=heikin_ashi_dataset['Close'])])\n",
        "\n",
        "fig.show()"
      ],
      "execution_count": 8,
      "outputs": [
        {
          "output_type": "display_data",
          "data": {
            "text/html": [
              "<html>\n",
              "<head><meta charset=\"utf-8\" /></head>\n",
              "<body>\n",
              "    <div>\n",
              "            <script src=\"https://cdnjs.cloudflare.com/ajax/libs/mathjax/2.7.5/MathJax.js?config=TeX-AMS-MML_SVG\"></script><script type=\"text/javascript\">if (window.MathJax) {MathJax.Hub.Config({SVG: {font: \"STIX-Web\"}});}</script>\n",
              "                <script type=\"text/javascript\">window.PlotlyConfig = {MathJaxConfig: 'local'};</script>\n",
              "        <script src=\"https://cdn.plot.ly/plotly-latest.min.js\"></script>    \n",
              "            <div id=\"e41eb701-b647-4233-8907-fa7c3310d8bf\" class=\"plotly-graph-div\" style=\"height:525px; width:100%;\"></div>\n",
              "            <script type=\"text/javascript\">\n",
              "                \n",
              "                    window.PLOTLYENV=window.PLOTLYENV || {};\n",
              "                    \n",
              "                if (document.getElementById(\"e41eb701-b647-4233-8907-fa7c3310d8bf\")) {\n",
              "                    Plotly.newPlot(\n",
              "                        'e41eb701-b647-4233-8907-fa7c3310d8bf',\n",
              "                        [{\"close\": [5383.2325, 5379.7225, 5378.48, 5379.445000000001, 5379.9625, 5372.537499999999, 5371.51, 5375.43, 5380.592500000001, 5385.4475, 5385.12, 5384.81, 5382.1675, 5380.759999999999, 5383.34], \"high\": [5384.91, 5383.73, 5383.2, 5381.13, 5382.97, 5379.8314843749995, 5377.58, 5378.37, 5385.0, 5389.35, 5386.49, 5387.08, 5386.18, 5383.117691345215, 5385.17], \"low\": [5382.02, 5375.13, 5375.0, 5376.0, 5377.22, 5365.71, 5366.64, 5372.17, 5374.638623046875, 5377.615561523438, 5381.531530761719, 5381.47, 5377.57, 5378.61, 5381.7], \"open\": [5383.05, 5383.141250000001, 5381.431875, 5379.9559375, 5379.70046875, 5379.8314843749995, 5376.1844921875, 5373.84724609375, 5374.638623046875, 5377.615561523438, 5381.531530761719, 5383.32576538086, 5384.0678826904295, 5383.117691345215, 5381.9388456726065], \"type\": \"candlestick\", \"x\": [\"2020-03-18T00:15:00\", \"2020-03-18T00:16:00\", \"2020-03-18T00:17:00\", \"2020-03-18T00:18:00\", \"2020-03-18T00:19:00\", \"2020-03-18T00:20:00\", \"2020-03-18T00:21:00\", \"2020-03-18T00:22:00\", \"2020-03-18T00:23:00\", \"2020-03-18T00:24:00\", \"2020-03-18T00:25:00\", \"2020-03-18T00:26:00\", \"2020-03-18T00:27:00\", \"2020-03-18T00:28:00\", \"2020-03-18T00:29:00\"]}],\n",
              "                        {\"template\": {\"data\": {\"bar\": [{\"error_x\": {\"color\": \"#2a3f5f\"}, \"error_y\": {\"color\": \"#2a3f5f\"}, \"marker\": {\"line\": {\"color\": \"#E5ECF6\", \"width\": 0.5}}, \"type\": \"bar\"}], \"barpolar\": [{\"marker\": {\"line\": {\"color\": \"#E5ECF6\", \"width\": 0.5}}, \"type\": \"barpolar\"}], \"carpet\": [{\"aaxis\": {\"endlinecolor\": \"#2a3f5f\", \"gridcolor\": \"white\", \"linecolor\": \"white\", \"minorgridcolor\": \"white\", \"startlinecolor\": \"#2a3f5f\"}, \"baxis\": {\"endlinecolor\": \"#2a3f5f\", \"gridcolor\": \"white\", \"linecolor\": \"white\", \"minorgridcolor\": \"white\", \"startlinecolor\": \"#2a3f5f\"}, \"type\": \"carpet\"}], \"choropleth\": [{\"colorbar\": {\"outlinewidth\": 0, \"ticks\": \"\"}, \"type\": \"choropleth\"}], \"contour\": [{\"colorbar\": {\"outlinewidth\": 0, \"ticks\": \"\"}, \"colorscale\": [[0.0, \"#0d0887\"], [0.1111111111111111, \"#46039f\"], [0.2222222222222222, \"#7201a8\"], [0.3333333333333333, \"#9c179e\"], [0.4444444444444444, \"#bd3786\"], [0.5555555555555556, \"#d8576b\"], [0.6666666666666666, \"#ed7953\"], [0.7777777777777778, \"#fb9f3a\"], [0.8888888888888888, \"#fdca26\"], [1.0, \"#f0f921\"]], \"type\": \"contour\"}], \"contourcarpet\": [{\"colorbar\": {\"outlinewidth\": 0, \"ticks\": \"\"}, \"type\": \"contourcarpet\"}], \"heatmap\": [{\"colorbar\": {\"outlinewidth\": 0, \"ticks\": \"\"}, \"colorscale\": [[0.0, \"#0d0887\"], [0.1111111111111111, \"#46039f\"], [0.2222222222222222, \"#7201a8\"], [0.3333333333333333, \"#9c179e\"], [0.4444444444444444, \"#bd3786\"], [0.5555555555555556, \"#d8576b\"], [0.6666666666666666, \"#ed7953\"], [0.7777777777777778, \"#fb9f3a\"], [0.8888888888888888, \"#fdca26\"], [1.0, \"#f0f921\"]], \"type\": \"heatmap\"}], \"heatmapgl\": [{\"colorbar\": {\"outlinewidth\": 0, \"ticks\": \"\"}, \"colorscale\": [[0.0, \"#0d0887\"], [0.1111111111111111, \"#46039f\"], [0.2222222222222222, \"#7201a8\"], [0.3333333333333333, \"#9c179e\"], [0.4444444444444444, \"#bd3786\"], [0.5555555555555556, \"#d8576b\"], [0.6666666666666666, \"#ed7953\"], [0.7777777777777778, \"#fb9f3a\"], [0.8888888888888888, \"#fdca26\"], [1.0, \"#f0f921\"]], \"type\": \"heatmapgl\"}], \"histogram\": [{\"marker\": {\"colorbar\": {\"outlinewidth\": 0, \"ticks\": \"\"}}, \"type\": \"histogram\"}], \"histogram2d\": [{\"colorbar\": {\"outlinewidth\": 0, \"ticks\": \"\"}, \"colorscale\": [[0.0, \"#0d0887\"], [0.1111111111111111, \"#46039f\"], [0.2222222222222222, \"#7201a8\"], [0.3333333333333333, \"#9c179e\"], [0.4444444444444444, \"#bd3786\"], [0.5555555555555556, \"#d8576b\"], [0.6666666666666666, \"#ed7953\"], [0.7777777777777778, \"#fb9f3a\"], [0.8888888888888888, \"#fdca26\"], [1.0, \"#f0f921\"]], \"type\": \"histogram2d\"}], \"histogram2dcontour\": [{\"colorbar\": {\"outlinewidth\": 0, \"ticks\": \"\"}, \"colorscale\": [[0.0, \"#0d0887\"], [0.1111111111111111, \"#46039f\"], [0.2222222222222222, \"#7201a8\"], [0.3333333333333333, \"#9c179e\"], [0.4444444444444444, \"#bd3786\"], [0.5555555555555556, \"#d8576b\"], [0.6666666666666666, \"#ed7953\"], [0.7777777777777778, \"#fb9f3a\"], [0.8888888888888888, \"#fdca26\"], [1.0, \"#f0f921\"]], \"type\": \"histogram2dcontour\"}], \"mesh3d\": [{\"colorbar\": {\"outlinewidth\": 0, \"ticks\": \"\"}, \"type\": \"mesh3d\"}], \"parcoords\": [{\"line\": {\"colorbar\": {\"outlinewidth\": 0, \"ticks\": \"\"}}, \"type\": \"parcoords\"}], \"pie\": [{\"automargin\": true, \"type\": \"pie\"}], \"scatter\": [{\"marker\": {\"colorbar\": {\"outlinewidth\": 0, \"ticks\": \"\"}}, \"type\": \"scatter\"}], \"scatter3d\": [{\"line\": {\"colorbar\": {\"outlinewidth\": 0, \"ticks\": \"\"}}, \"marker\": {\"colorbar\": {\"outlinewidth\": 0, \"ticks\": \"\"}}, \"type\": \"scatter3d\"}], \"scattercarpet\": [{\"marker\": {\"colorbar\": {\"outlinewidth\": 0, \"ticks\": \"\"}}, \"type\": \"scattercarpet\"}], \"scattergeo\": [{\"marker\": {\"colorbar\": {\"outlinewidth\": 0, \"ticks\": \"\"}}, \"type\": \"scattergeo\"}], \"scattergl\": [{\"marker\": {\"colorbar\": {\"outlinewidth\": 0, \"ticks\": \"\"}}, \"type\": \"scattergl\"}], \"scattermapbox\": [{\"marker\": {\"colorbar\": {\"outlinewidth\": 0, \"ticks\": \"\"}}, \"type\": \"scattermapbox\"}], \"scatterpolar\": [{\"marker\": {\"colorbar\": {\"outlinewidth\": 0, \"ticks\": \"\"}}, \"type\": \"scatterpolar\"}], \"scatterpolargl\": [{\"marker\": {\"colorbar\": {\"outlinewidth\": 0, \"ticks\": \"\"}}, \"type\": \"scatterpolargl\"}], \"scatterternary\": [{\"marker\": {\"colorbar\": {\"outlinewidth\": 0, \"ticks\": \"\"}}, \"type\": \"scatterternary\"}], \"surface\": [{\"colorbar\": {\"outlinewidth\": 0, \"ticks\": \"\"}, \"colorscale\": [[0.0, \"#0d0887\"], [0.1111111111111111, \"#46039f\"], [0.2222222222222222, \"#7201a8\"], [0.3333333333333333, \"#9c179e\"], [0.4444444444444444, \"#bd3786\"], [0.5555555555555556, \"#d8576b\"], [0.6666666666666666, \"#ed7953\"], [0.7777777777777778, \"#fb9f3a\"], [0.8888888888888888, \"#fdca26\"], [1.0, \"#f0f921\"]], \"type\": \"surface\"}], \"table\": [{\"cells\": {\"fill\": {\"color\": \"#EBF0F8\"}, \"line\": {\"color\": \"white\"}}, \"header\": {\"fill\": {\"color\": \"#C8D4E3\"}, \"line\": {\"color\": \"white\"}}, \"type\": \"table\"}]}, \"layout\": {\"annotationdefaults\": {\"arrowcolor\": \"#2a3f5f\", \"arrowhead\": 0, \"arrowwidth\": 1}, \"coloraxis\": {\"colorbar\": {\"outlinewidth\": 0, \"ticks\": \"\"}}, \"colorscale\": {\"diverging\": [[0, \"#8e0152\"], [0.1, \"#c51b7d\"], [0.2, \"#de77ae\"], [0.3, \"#f1b6da\"], [0.4, \"#fde0ef\"], [0.5, \"#f7f7f7\"], [0.6, \"#e6f5d0\"], [0.7, \"#b8e186\"], [0.8, \"#7fbc41\"], [0.9, \"#4d9221\"], [1, \"#276419\"]], \"sequential\": [[0.0, \"#0d0887\"], [0.1111111111111111, \"#46039f\"], [0.2222222222222222, \"#7201a8\"], [0.3333333333333333, \"#9c179e\"], [0.4444444444444444, \"#bd3786\"], [0.5555555555555556, \"#d8576b\"], [0.6666666666666666, \"#ed7953\"], [0.7777777777777778, \"#fb9f3a\"], [0.8888888888888888, \"#fdca26\"], [1.0, \"#f0f921\"]], \"sequentialminus\": [[0.0, \"#0d0887\"], [0.1111111111111111, \"#46039f\"], [0.2222222222222222, \"#7201a8\"], [0.3333333333333333, \"#9c179e\"], [0.4444444444444444, \"#bd3786\"], [0.5555555555555556, \"#d8576b\"], [0.6666666666666666, \"#ed7953\"], [0.7777777777777778, \"#fb9f3a\"], [0.8888888888888888, \"#fdca26\"], [1.0, \"#f0f921\"]]}, \"colorway\": [\"#636efa\", \"#EF553B\", \"#00cc96\", \"#ab63fa\", \"#FFA15A\", \"#19d3f3\", \"#FF6692\", \"#B6E880\", \"#FF97FF\", \"#FECB52\"], \"font\": {\"color\": \"#2a3f5f\"}, \"geo\": {\"bgcolor\": \"white\", \"lakecolor\": \"white\", \"landcolor\": \"#E5ECF6\", \"showlakes\": true, \"showland\": true, \"subunitcolor\": \"white\"}, \"hoverlabel\": {\"align\": \"left\"}, \"hovermode\": \"closest\", \"mapbox\": {\"style\": \"light\"}, \"paper_bgcolor\": \"white\", \"plot_bgcolor\": \"#E5ECF6\", \"polar\": {\"angularaxis\": {\"gridcolor\": \"white\", \"linecolor\": \"white\", \"ticks\": \"\"}, \"bgcolor\": \"#E5ECF6\", \"radialaxis\": {\"gridcolor\": \"white\", \"linecolor\": \"white\", \"ticks\": \"\"}}, \"scene\": {\"xaxis\": {\"backgroundcolor\": \"#E5ECF6\", \"gridcolor\": \"white\", \"gridwidth\": 2, \"linecolor\": \"white\", \"showbackground\": true, \"ticks\": \"\", \"zerolinecolor\": \"white\"}, \"yaxis\": {\"backgroundcolor\": \"#E5ECF6\", \"gridcolor\": \"white\", \"gridwidth\": 2, \"linecolor\": \"white\", \"showbackground\": true, \"ticks\": \"\", \"zerolinecolor\": \"white\"}, \"zaxis\": {\"backgroundcolor\": \"#E5ECF6\", \"gridcolor\": \"white\", \"gridwidth\": 2, \"linecolor\": \"white\", \"showbackground\": true, \"ticks\": \"\", \"zerolinecolor\": \"white\"}}, \"shapedefaults\": {\"line\": {\"color\": \"#2a3f5f\"}}, \"ternary\": {\"aaxis\": {\"gridcolor\": \"white\", \"linecolor\": \"white\", \"ticks\": \"\"}, \"baxis\": {\"gridcolor\": \"white\", \"linecolor\": \"white\", \"ticks\": \"\"}, \"bgcolor\": \"#E5ECF6\", \"caxis\": {\"gridcolor\": \"white\", \"linecolor\": \"white\", \"ticks\": \"\"}}, \"title\": {\"x\": 0.05}, \"xaxis\": {\"automargin\": true, \"gridcolor\": \"white\", \"linecolor\": \"white\", \"ticks\": \"\", \"title\": {\"standoff\": 15}, \"zerolinecolor\": \"white\", \"zerolinewidth\": 2}, \"yaxis\": {\"automargin\": true, \"gridcolor\": \"white\", \"linecolor\": \"white\", \"ticks\": \"\", \"title\": {\"standoff\": 15}, \"zerolinecolor\": \"white\", \"zerolinewidth\": 2}}}},\n",
              "                        {\"responsive\": true}\n",
              "                    ).then(function(){\n",
              "                            \n",
              "var gd = document.getElementById('e41eb701-b647-4233-8907-fa7c3310d8bf');\n",
              "var x = new MutationObserver(function (mutations, observer) {{\n",
              "        var display = window.getComputedStyle(gd).display;\n",
              "        if (!display || display === 'none') {{\n",
              "            console.log([gd, 'removed!']);\n",
              "            Plotly.purge(gd);\n",
              "            observer.disconnect();\n",
              "        }}\n",
              "}});\n",
              "\n",
              "// Listen for the removal of the full notebook cells\n",
              "var notebookContainer = gd.closest('#notebook-container');\n",
              "if (notebookContainer) {{\n",
              "    x.observe(notebookContainer, {childList: true});\n",
              "}}\n",
              "\n",
              "// Listen for the clearing of the current output cell\n",
              "var outputEl = gd.closest('.output');\n",
              "if (outputEl) {{\n",
              "    x.observe(outputEl, {childList: true});\n",
              "}}\n",
              "\n",
              "                        })\n",
              "                };\n",
              "                \n",
              "            </script>\n",
              "        </div>\n",
              "</body>\n",
              "</html>"
            ]
          },
          "metadata": {
            "tags": []
          }
        }
      ]
    },
    {
      "cell_type": "code",
      "metadata": {
        "id": "JDLR47idox-F",
        "colab_type": "code",
        "outputId": "e5e0d425-ec9e-47a4-e3e8-9418759b186e",
        "colab": {
          "base_uri": "https://localhost:8080/",
          "height": 543
        }
      },
      "source": [
        "latent_trend = ((heikin_ashi_dataset['Close'] - heikin_ashi_dataset['Open']) > 0).astype(int)\n",
        "plt.plot(latent_trend)\n",
        "latent_trend"
      ],
      "execution_count": 9,
      "outputs": [
        {
          "output_type": "execute_result",
          "data": {
            "text/plain": [
              "2020-03-18 00:15:00    1\n",
              "2020-03-18 00:16:00    0\n",
              "2020-03-18 00:17:00    0\n",
              "2020-03-18 00:18:00    0\n",
              "2020-03-18 00:19:00    1\n",
              "2020-03-18 00:20:00    0\n",
              "2020-03-18 00:21:00    0\n",
              "2020-03-18 00:22:00    1\n",
              "2020-03-18 00:23:00    1\n",
              "2020-03-18 00:24:00    1\n",
              "2020-03-18 00:25:00    1\n",
              "2020-03-18 00:26:00    1\n",
              "2020-03-18 00:27:00    0\n",
              "2020-03-18 00:28:00    0\n",
              "2020-03-18 00:29:00    1\n",
              "dtype: int64"
            ]
          },
          "metadata": {
            "tags": []
          },
          "execution_count": 9
        },
        {
          "output_type": "display_data",
          "data": {
            "image/png": "[encoded data removed]",
            "text/plain": [
              "<Figure size 432x288 with 1 Axes>"
            ]
          },
          "metadata": {
            "tags": []
          }
        }
      ]
    },
    {
      "cell_type": "code",
      "metadata": {
        "id": "TLz_pFippdCr",
        "colab_type": "code",
        "colab": {}
      },
      "source": [
        "#list(filter(lambda x: float(x['free']) != 0.0, client.get_account()['balances']))"
      ],
      "execution_count": 0,
      "outputs": []
    },
    {
      "cell_type": "code",
      "metadata": {
        "id": "MpBBCjK5Zffa",
        "colab_type": "code",
        "colab": {
          "base_uri": "https://localhost:8080/",
          "height": 761
        },
        "outputId": "80771e0e-56cf-4e58-9745-205eeb2193d5"
      },
      "source": [
        "position = 'buy'\n",
        "\n",
        "while True:\n",
        "    sleep(30)\n",
        "    dataset = download_dataset(symbol=symbol)\n",
        "    dataset = heikin_ashi(dataset)\n",
        "    latent_trend = ((heikin_ashi_dataset['Close'] - heikin_ashi_dataset['Open']) > 0).astype(int)\n",
        "    plt.plot(latent_trend)\n",
        "    plt.show()\n",
        "\n",
        "    if latent_trend[-1] == 1 and latent_trend[-2] == 1 and position == 'sell':\n",
        "        position = 'buy'\n",
        "        client.create_order(symbol=symbol, \n",
        "                            side=Client.SIDE_BUY, \n",
        "                            type=Client.ORDER_TYPE_MARKET, \n",
        "                            quantity=10, \n",
        "                            recvWindow=1000)\n",
        "\n",
        "    elif latent_trend[-1] == 0 and latent_trend[-2] == 0 and position == 'buy':\n",
        "        position = 'sell'\n",
        "        client.create_order(symbol=symbol, \n",
        "                            side=Client.SIDE_SELL, \n",
        "                            type=Client.ORDER_TYPE_MARKET, \n",
        "                            quantity=0.0013, \n",
        "                            recvWindow=1000)"
      ],
      "execution_count": 0,
      "outputs": [
        {
          "output_type": "display_data",
          "data": {
            "image/png": "[encoded data removed]",
            "text/plain": [
              "<Figure size 432x288 with 1 Axes>"
            ]
          },
          "metadata": {
            "tags": []
          }
        },
        {
          "output_type": "display_data",
          "data": {
            "image/png": "[encoded data removed]",
            "text/plain": [
              "<Figure size 432x288 with 1 Axes>"
            ]
          },
          "metadata": {
            "tags": []
          }
        },
        {
          "output_type": "display_data",
          "data": {
            "image/png": "[encoded data removed]",
            "text/plain": [
              "<Figure size 432x288 with 1 Axes>"
            ]
          },
          "metadata": {
            "tags": []
          }
        }
      ]
    }
  ]
}