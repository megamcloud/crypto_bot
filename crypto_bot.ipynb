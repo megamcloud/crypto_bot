{
  "nbformat": 4,
  "nbformat_minor": 0,
  "metadata": {
    "colab": {
      "name": "crypto_bot",
      "provenance": [],
      "collapsed_sections": [],
      "authorship_tag": "ABX9TyM5BVt0GIPrKSOHIYigiGyv",
      "include_colab_link": true
    },
    "kernelspec": {
      "name": "python3",
      "display_name": "Python 3"
    }
  },
  "cells": [
    {
      "cell_type": "markdown",
      "metadata": {
        "id": "view-in-github",
        "colab_type": "text"
      },
      "source": [
        "<a href=\"https://colab.research.google.com/github/abstractguy/crypto_bot/blob/master/crypto_bot.ipynb\" target=\"_parent\"><img src=\"https://colab.research.google.com/assets/colab-badge.svg\" alt=\"Open In Colab\"/></a>"
      ]
    },
    {
      "cell_type": "markdown",
      "metadata": {
        "id": "jKtLwsCCqsmH",
        "colab_type": "text"
      },
      "source": [
        "Cryptocurrency trading bot."
      ]
    },
    {
      "cell_type": "markdown",
      "metadata": {
        "id": "8cjXevL7q3ZQ",
        "colab_type": "text"
      },
      "source": [
        "Hardcoded parameters."
      ]
    },
    {
      "cell_type": "code",
      "metadata": {
        "id": "OGuarqPrqrT8",
        "colab_type": "code",
        "colab": {}
      },
      "source": [
        "symbol = 'BTCUSDT'\n",
        "period = '15 minutes ago UTC'\n",
        "interval = '1m'\n",
        "api_key = 'yoyoyo'\n",
        "api_secret = 'yeyeye'"
      ],
      "execution_count": 0,
      "outputs": []
    },
    {
      "cell_type": "markdown",
      "metadata": {
        "id": "-RT2OABArdNU",
        "colab_type": "text"
      },
      "source": [
        "Installs."
      ]
    },
    {
      "cell_type": "code",
      "metadata": {
        "id": "v3A6tYLrq7zd",
        "colab_type": "code",
        "outputId": "5ea759f1-d5fe-4040-dc3b-08da8b6024c4",
        "colab": {
          "base_uri": "https://localhost:8080/",
          "height": 538
        }
      },
      "source": [
        "!pip install python-binance --upgrade --no-cache-dir"
      ],
      "execution_count": 2,
      "outputs": [
        {
          "output_type": "stream",
          "text": [
            "Requirement already up-to-date: python-binance in /usr/local/lib/python3.6/dist-packages (0.7.5)\n",
            "Requirement already satisfied, skipping upgrade: six in /usr/local/lib/python3.6/dist-packages (from python-binance) (1.12.0)\n",
            "Requirement already satisfied, skipping upgrade: certifi in /usr/local/lib/python3.6/dist-packages (from python-binance) (2019.11.28)\n",
            "Requirement already satisfied, skipping upgrade: dateparser in /usr/local/lib/python3.6/dist-packages (from python-binance) (0.7.4)\n",
            "Requirement already satisfied, skipping upgrade: autobahn in /usr/local/lib/python3.6/dist-packages (from python-binance) (20.3.1)\n",
            "Requirement already satisfied, skipping upgrade: pyOpenSSL in /usr/local/lib/python3.6/dist-packages (from python-binance) (19.1.0)\n",
            "Requirement already satisfied, skipping upgrade: urllib3 in /usr/local/lib/python3.6/dist-packages (from python-binance) (1.24.3)\n",
            "Requirement already satisfied, skipping upgrade: cryptography in /usr/local/lib/python3.6/dist-packages (from python-binance) (2.8)\n",
            "Requirement already satisfied, skipping upgrade: service-identity in /usr/local/lib/python3.6/dist-packages (from python-binance) (18.1.0)\n",
            "Requirement already satisfied, skipping upgrade: requests in /usr/local/lib/python3.6/dist-packages (from python-binance) (2.21.0)\n",
            "Requirement already satisfied, skipping upgrade: Twisted in /usr/local/lib/python3.6/dist-packages (from python-binance) (19.10.0)\n",
            "Requirement already satisfied, skipping upgrade: python-dateutil in /usr/local/lib/python3.6/dist-packages (from dateparser->python-binance) (2.8.1)\n",
            "Requirement already satisfied, skipping upgrade: tzlocal in /usr/local/lib/python3.6/dist-packages (from dateparser->python-binance) (1.5.1)\n",
            "Requirement already satisfied, skipping upgrade: regex!=2019.02.19 in /usr/local/lib/python3.6/dist-packages (from dateparser->python-binance) (2019.12.20)\n",
            "Requirement already satisfied, skipping upgrade: pytz in /usr/local/lib/python3.6/dist-packages (from dateparser->python-binance) (2018.9)\n",
            "Requirement already satisfied, skipping upgrade: txaio>=20.1.1 in /usr/local/lib/python3.6/dist-packages (from autobahn->python-binance) (20.1.1)\n",
            "Requirement already satisfied, skipping upgrade: cffi!=1.11.3,>=1.8 in /usr/local/lib/python3.6/dist-packages (from cryptography->python-binance) (1.14.0)\n",
            "Requirement already satisfied, skipping upgrade: attrs>=16.0.0 in /usr/local/lib/python3.6/dist-packages (from service-identity->python-binance) (19.3.0)\n",
            "Requirement already satisfied, skipping upgrade: pyasn1-modules in /usr/local/lib/python3.6/dist-packages (from service-identity->python-binance) (0.2.8)\n",
            "Requirement already satisfied, skipping upgrade: pyasn1 in /usr/local/lib/python3.6/dist-packages (from service-identity->python-binance) (0.4.8)\n",
            "Requirement already satisfied, skipping upgrade: chardet<3.1.0,>=3.0.2 in /usr/local/lib/python3.6/dist-packages (from requests->python-binance) (3.0.4)\n",
            "Requirement already satisfied, skipping upgrade: idna<2.9,>=2.5 in /usr/local/lib/python3.6/dist-packages (from requests->python-binance) (2.8)\n",
            "Requirement already satisfied, skipping upgrade: zope.interface>=4.4.2 in /usr/local/lib/python3.6/dist-packages (from Twisted->python-binance) (4.7.2)\n",
            "Requirement already satisfied, skipping upgrade: hyperlink>=17.1.1 in /usr/local/lib/python3.6/dist-packages (from Twisted->python-binance) (19.0.0)\n",
            "Requirement already satisfied, skipping upgrade: Automat>=0.3.0 in /usr/local/lib/python3.6/dist-packages (from Twisted->python-binance) (20.2.0)\n",
            "Requirement already satisfied, skipping upgrade: constantly>=15.1 in /usr/local/lib/python3.6/dist-packages (from Twisted->python-binance) (15.1.0)\n",
            "Requirement already satisfied, skipping upgrade: PyHamcrest>=1.9.0 in /usr/local/lib/python3.6/dist-packages (from Twisted->python-binance) (2.0.2)\n",
            "Requirement already satisfied, skipping upgrade: incremental>=16.10.1 in /usr/local/lib/python3.6/dist-packages (from Twisted->python-binance) (17.5.0)\n",
            "Requirement already satisfied, skipping upgrade: pycparser in /usr/local/lib/python3.6/dist-packages (from cffi!=1.11.3,>=1.8->cryptography->python-binance) (2.20)\n",
            "Requirement already satisfied, skipping upgrade: setuptools in /usr/local/lib/python3.6/dist-packages (from zope.interface>=4.4.2->Twisted->python-binance) (45.2.0)\n"
          ],
          "name": "stdout"
        }
      ]
    },
    {
      "cell_type": "markdown",
      "metadata": {
        "id": "4NCI6E0krnqz",
        "colab_type": "text"
      },
      "source": [
        "Library imports."
      ]
    },
    {
      "cell_type": "code",
      "metadata": {
        "id": "roqyi1bprb0q",
        "colab_type": "code",
        "colab": {}
      },
      "source": [
        "%matplotlib inline\n",
        "\n",
        "from binance.client import Client\n",
        "from binance.enums import *\n",
        "from binance.exceptions import BinanceAPIException\n",
        "from time import sleep\n",
        "\n",
        "import datetime\n",
        "import numpy as np\n",
        "import pandas as pd\n",
        "import matplotlib.pyplot as plt\n",
        "import plotly.graph_objects as go"
      ],
      "execution_count": 0,
      "outputs": []
    },
    {
      "cell_type": "markdown",
      "metadata": {
        "id": "DWsthLkwsf-l",
        "colab_type": "text"
      },
      "source": [
        "Function definitions."
      ]
    },
    {
      "cell_type": "code",
      "metadata": {
        "id": "zJc4WzqqqhoI",
        "colab_type": "code",
        "colab": {}
      },
      "source": [
        "def heikin_ashi(df):\n",
        "    df = df.tz_localize(tz=None, ambiguous='infer')\n",
        "    df = df[['Open', 'High', 'Low', 'Close']].copy().astype('float')\n",
        "    heikin_ashi_df = pd.DataFrame(index=df.index.values, columns=['Open', 'High', 'Low', 'Close'])\n",
        "    heikin_ashi_df['Close'] = (df['Open'] + df['High'] + df['Low'] + df['Close']) / 4\n",
        "\n",
        "    for i in range(len(df)):\n",
        "        if i == 0:\n",
        "            heikin_ashi_df.iat[0, 0] = df['Open'].iloc[0]\n",
        "        else:\n",
        "            heikin_ashi_df.iat[i, 0] = (heikin_ashi_df.iat[i - 1, 0] + heikin_ashi_df.iat[i - 1, 3]) / 2\n",
        "\n",
        "    heikin_ashi_df['High'] = heikin_ashi_df.loc[:, ['Open', 'Close']].join(df['High']).max(axis=1)\n",
        "    heikin_ashi_df['Low'] = heikin_ashi_df.loc[:, ['Open', 'Close']].join(df['Low']).min(axis=1)\n",
        "\n",
        "    return heikin_ashi_df\n",
        "\n",
        "def download_dataset(symbol=symbol):\n",
        "    dataset_downloaded = \\\n",
        "        client.get_historical_klines(symbol=symbol, \n",
        "                                     interval=interval, \n",
        "                                     start_str=period)\n",
        "\n",
        "    dataset_downloaded = pd.DataFrame(dataset_downloaded, \n",
        "                                      columns=['time', \n",
        "                                               'Open', \n",
        "                                               'High', \n",
        "                                               'Low', \n",
        "                                               'Close', \n",
        "                                               'Volume', \n",
        "                                               'Close time', \n",
        "                                               'Quote asset volume', \n",
        "                                               'Number of trades', \n",
        "                                               'Taker buy base asset volume', \n",
        "                                               'Taker buy quote asset volume', \n",
        "                                               'Ignore'])\n",
        "\n",
        "    four_hours = 14400\n",
        "    milliseconds = 1000\n",
        "\n",
        "    dataset_downloaded['time'] = \\\n",
        "        dataset_downloaded['time'].apply(lambda timestamp: \\\n",
        "                                         datetime.datetime.fromtimestamp((timestamp / \\\n",
        "                                                                          milliseconds) - \\\n",
        "                                                                         four_hours))\n",
        "\n",
        "    dataset_downloaded = dataset_downloaded[['time', \n",
        "                                             'Open', \n",
        "                                             'High', \n",
        "                                             'Low', \n",
        "                                             'Close', \n",
        "                                             'Volume', \n",
        "                                             'Number of trades']]\n",
        "\n",
        "    dataset_downloaded.set_index('time', inplace=True)\n",
        "\n",
        "    return dataset_downloaded"
      ],
      "execution_count": 0,
      "outputs": []
    },
    {
      "cell_type": "markdown",
      "metadata": {
        "id": "z4eWTY7yswwW",
        "colab_type": "text"
      },
      "source": [
        "Download cryptocurrency symbol data."
      ]
    },
    {
      "cell_type": "code",
      "metadata": {
        "id": "k1Qcy80FI5CT",
        "colab_type": "code",
        "colab": {
          "base_uri": "https://localhost:8080/",
          "height": 551
        },
        "outputId": "4981ee53-e114-4e8c-d539-4856ff12fcd5"
      },
      "source": [
        "client = Client(api_key, api_secret)\n",
        "dataset_downloaded = download_dataset()\n",
        "dataset_downloaded"
      ],
      "execution_count": 5,
      "outputs": [
        {
          "output_type": "execute_result",
          "data": {
            "text/html": [
              "<div>\n",
              "<style scoped>\n",
              "    .dataframe tbody tr th:only-of-type {\n",
              "        vertical-align: middle;\n",
              "    }\n",
              "\n",
              "    .dataframe tbody tr th {\n",
              "        vertical-align: top;\n",
              "    }\n",
              "\n",
              "    .dataframe thead th {\n",
              "        text-align: right;\n",
              "    }\n",
              "</style>\n",
              "<table border=\"1\" class=\"dataframe\">\n",
              "  <thead>\n",
              "    <tr style=\"text-align: right;\">\n",
              "      <th></th>\n",
              "      <th>Open</th>\n",
              "      <th>High</th>\n",
              "      <th>Low</th>\n",
              "      <th>Close</th>\n",
              "      <th>Volume</th>\n",
              "      <th>Number of trades</th>\n",
              "    </tr>\n",
              "    <tr>\n",
              "      <th>time</th>\n",
              "      <th></th>\n",
              "      <th></th>\n",
              "      <th></th>\n",
              "      <th></th>\n",
              "      <th></th>\n",
              "      <th></th>\n",
              "    </tr>\n",
              "  </thead>\n",
              "  <tbody>\n",
              "    <tr>\n",
              "      <th>2020-03-18 01:44:00</th>\n",
              "      <td>5340.24000000</td>\n",
              "      <td>5340.24000000</td>\n",
              "      <td>5335.00000000</td>\n",
              "      <td>5335.81000000</td>\n",
              "      <td>21.24381400</td>\n",
              "      <td>229</td>\n",
              "    </tr>\n",
              "    <tr>\n",
              "      <th>2020-03-18 01:45:00</th>\n",
              "      <td>5336.28000000</td>\n",
              "      <td>5342.92000000</td>\n",
              "      <td>5336.28000000</td>\n",
              "      <td>5336.63000000</td>\n",
              "      <td>27.62073200</td>\n",
              "      <td>367</td>\n",
              "    </tr>\n",
              "    <tr>\n",
              "      <th>2020-03-18 01:46:00</th>\n",
              "      <td>5336.50000000</td>\n",
              "      <td>5343.01000000</td>\n",
              "      <td>5335.00000000</td>\n",
              "      <td>5343.01000000</td>\n",
              "      <td>17.61265800</td>\n",
              "      <td>264</td>\n",
              "    </tr>\n",
              "    <tr>\n",
              "      <th>2020-03-18 01:47:00</th>\n",
              "      <td>5343.04000000</td>\n",
              "      <td>5344.00000000</td>\n",
              "      <td>5336.53000000</td>\n",
              "      <td>5341.44000000</td>\n",
              "      <td>27.15088400</td>\n",
              "      <td>286</td>\n",
              "    </tr>\n",
              "    <tr>\n",
              "      <th>2020-03-18 01:48:00</th>\n",
              "      <td>5341.48000000</td>\n",
              "      <td>5349.71000000</td>\n",
              "      <td>5340.17000000</td>\n",
              "      <td>5348.44000000</td>\n",
              "      <td>44.18704600</td>\n",
              "      <td>419</td>\n",
              "    </tr>\n",
              "    <tr>\n",
              "      <th>2020-03-18 01:49:00</th>\n",
              "      <td>5348.71000000</td>\n",
              "      <td>5348.94000000</td>\n",
              "      <td>5340.24000000</td>\n",
              "      <td>5342.93000000</td>\n",
              "      <td>19.91085700</td>\n",
              "      <td>255</td>\n",
              "    </tr>\n",
              "    <tr>\n",
              "      <th>2020-03-18 01:50:00</th>\n",
              "      <td>5343.93000000</td>\n",
              "      <td>5345.65000000</td>\n",
              "      <td>5343.55000000</td>\n",
              "      <td>5344.51000000</td>\n",
              "      <td>9.42361100</td>\n",
              "      <td>213</td>\n",
              "    </tr>\n",
              "    <tr>\n",
              "      <th>2020-03-18 01:51:00</th>\n",
              "      <td>5345.18000000</td>\n",
              "      <td>5346.61000000</td>\n",
              "      <td>5340.00000000</td>\n",
              "      <td>5340.00000000</td>\n",
              "      <td>45.79761600</td>\n",
              "      <td>212</td>\n",
              "    </tr>\n",
              "    <tr>\n",
              "      <th>2020-03-18 01:52:00</th>\n",
              "      <td>5341.08000000</td>\n",
              "      <td>5341.08000000</td>\n",
              "      <td>5329.22000000</td>\n",
              "      <td>5329.61000000</td>\n",
              "      <td>34.38376000</td>\n",
              "      <td>277</td>\n",
              "    </tr>\n",
              "    <tr>\n",
              "      <th>2020-03-18 01:53:00</th>\n",
              "      <td>5329.61000000</td>\n",
              "      <td>5333.91000000</td>\n",
              "      <td>5305.00000000</td>\n",
              "      <td>5305.01000000</td>\n",
              "      <td>223.99707600</td>\n",
              "      <td>1270</td>\n",
              "    </tr>\n",
              "    <tr>\n",
              "      <th>2020-03-18 01:54:00</th>\n",
              "      <td>5305.01000000</td>\n",
              "      <td>5308.61000000</td>\n",
              "      <td>5287.00000000</td>\n",
              "      <td>5297.09000000</td>\n",
              "      <td>340.97122000</td>\n",
              "      <td>1842</td>\n",
              "    </tr>\n",
              "    <tr>\n",
              "      <th>2020-03-18 01:55:00</th>\n",
              "      <td>5297.02000000</td>\n",
              "      <td>5297.89000000</td>\n",
              "      <td>5270.00000000</td>\n",
              "      <td>5283.27000000</td>\n",
              "      <td>252.79726300</td>\n",
              "      <td>1611</td>\n",
              "    </tr>\n",
              "    <tr>\n",
              "      <th>2020-03-18 01:56:00</th>\n",
              "      <td>5281.54000000</td>\n",
              "      <td>5288.68000000</td>\n",
              "      <td>5269.05000000</td>\n",
              "      <td>5276.74000000</td>\n",
              "      <td>127.95928000</td>\n",
              "      <td>807</td>\n",
              "    </tr>\n",
              "    <tr>\n",
              "      <th>2020-03-18 01:57:00</th>\n",
              "      <td>5277.77000000</td>\n",
              "      <td>5279.19000000</td>\n",
              "      <td>5259.43000000</td>\n",
              "      <td>5267.44000000</td>\n",
              "      <td>211.54948700</td>\n",
              "      <td>1324</td>\n",
              "    </tr>\n",
              "    <tr>\n",
              "      <th>2020-03-18 01:58:00</th>\n",
              "      <td>5268.83000000</td>\n",
              "      <td>5286.85000000</td>\n",
              "      <td>5268.83000000</td>\n",
              "      <td>5274.96000000</td>\n",
              "      <td>57.40036500</td>\n",
              "      <td>515</td>\n",
              "    </tr>\n",
              "  </tbody>\n",
              "</table>\n",
              "</div>"
            ],
            "text/plain": [
              "                              Open  ... Number of trades\n",
              "time                                ...                 \n",
              "2020-03-18 01:44:00  5340.24000000  ...              229\n",
              "2020-03-18 01:45:00  5336.28000000  ...              367\n",
              "2020-03-18 01:46:00  5336.50000000  ...              264\n",
              "2020-03-18 01:47:00  5343.04000000  ...              286\n",
              "2020-03-18 01:48:00  5341.48000000  ...              419\n",
              "2020-03-18 01:49:00  5348.71000000  ...              255\n",
              "2020-03-18 01:50:00  5343.93000000  ...              213\n",
              "2020-03-18 01:51:00  5345.18000000  ...              212\n",
              "2020-03-18 01:52:00  5341.08000000  ...              277\n",
              "2020-03-18 01:53:00  5329.61000000  ...             1270\n",
              "2020-03-18 01:54:00  5305.01000000  ...             1842\n",
              "2020-03-18 01:55:00  5297.02000000  ...             1611\n",
              "2020-03-18 01:56:00  5281.54000000  ...              807\n",
              "2020-03-18 01:57:00  5277.77000000  ...             1324\n",
              "2020-03-18 01:58:00  5268.83000000  ...              515\n",
              "\n",
              "[15 rows x 6 columns]"
            ]
          },
          "metadata": {
            "tags": []
          },
          "execution_count": 5
        }
      ]
    },
    {
      "cell_type": "markdown",
      "metadata": {
        "id": "-hyQwK4Ntn4g",
        "colab_type": "text"
      },
      "source": [
        "Download testing area -->"
      ]
    },
    {
      "cell_type": "code",
      "metadata": {
        "id": "RD4N_tbItpIs",
        "colab_type": "code",
        "colab": {}
      },
      "source": [
        ""
      ],
      "execution_count": 0,
      "outputs": []
    },
    {
      "cell_type": "markdown",
      "metadata": {
        "id": "CHI7vgKutptt",
        "colab_type": "text"
      },
      "source": [
        "<-- End of download testing area."
      ]
    },
    {
      "cell_type": "markdown",
      "metadata": {
        "id": "48jZWtC4tsWE",
        "colab_type": "text"
      },
      "source": [
        "*** To avoid downloading multiple times, restart here. ***"
      ]
    },
    {
      "cell_type": "code",
      "metadata": {
        "id": "SCf0xuxyuG2j",
        "colab_type": "code",
        "outputId": "4ece696f-59ef-4437-d6ac-78cd12b1ec6c",
        "colab": {
          "base_uri": "https://localhost:8080/",
          "height": 551
        }
      },
      "source": [
        "dataset = dataset_downloaded.copy()\n",
        "dataset"
      ],
      "execution_count": 6,
      "outputs": [
        {
          "output_type": "execute_result",
          "data": {
            "text/html": [
              "<div>\n",
              "<style scoped>\n",
              "    .dataframe tbody tr th:only-of-type {\n",
              "        vertical-align: middle;\n",
              "    }\n",
              "\n",
              "    .dataframe tbody tr th {\n",
              "        vertical-align: top;\n",
              "    }\n",
              "\n",
              "    .dataframe thead th {\n",
              "        text-align: right;\n",
              "    }\n",
              "</style>\n",
              "<table border=\"1\" class=\"dataframe\">\n",
              "  <thead>\n",
              "    <tr style=\"text-align: right;\">\n",
              "      <th></th>\n",
              "      <th>Open</th>\n",
              "      <th>High</th>\n",
              "      <th>Low</th>\n",
              "      <th>Close</th>\n",
              "      <th>Volume</th>\n",
              "      <th>Number of trades</th>\n",
              "    </tr>\n",
              "    <tr>\n",
              "      <th>time</th>\n",
              "      <th></th>\n",
              "      <th></th>\n",
              "      <th></th>\n",
              "      <th></th>\n",
              "      <th></th>\n",
              "      <th></th>\n",
              "    </tr>\n",
              "  </thead>\n",
              "  <tbody>\n",
              "    <tr>\n",
              "      <th>2020-03-18 01:44:00</th>\n",
              "      <td>5340.24000000</td>\n",
              "      <td>5340.24000000</td>\n",
              "      <td>5335.00000000</td>\n",
              "      <td>5335.81000000</td>\n",
              "      <td>21.24381400</td>\n",
              "      <td>229</td>\n",
              "    </tr>\n",
              "    <tr>\n",
              "      <th>2020-03-18 01:45:00</th>\n",
              "      <td>5336.28000000</td>\n",
              "      <td>5342.92000000</td>\n",
              "      <td>5336.28000000</td>\n",
              "      <td>5336.63000000</td>\n",
              "      <td>27.62073200</td>\n",
              "      <td>367</td>\n",
              "    </tr>\n",
              "    <tr>\n",
              "      <th>2020-03-18 01:46:00</th>\n",
              "      <td>5336.50000000</td>\n",
              "      <td>5343.01000000</td>\n",
              "      <td>5335.00000000</td>\n",
              "      <td>5343.01000000</td>\n",
              "      <td>17.61265800</td>\n",
              "      <td>264</td>\n",
              "    </tr>\n",
              "    <tr>\n",
              "      <th>2020-03-18 01:47:00</th>\n",
              "      <td>5343.04000000</td>\n",
              "      <td>5344.00000000</td>\n",
              "      <td>5336.53000000</td>\n",
              "      <td>5341.44000000</td>\n",
              "      <td>27.15088400</td>\n",
              "      <td>286</td>\n",
              "    </tr>\n",
              "    <tr>\n",
              "      <th>2020-03-18 01:48:00</th>\n",
              "      <td>5341.48000000</td>\n",
              "      <td>5349.71000000</td>\n",
              "      <td>5340.17000000</td>\n",
              "      <td>5348.44000000</td>\n",
              "      <td>44.18704600</td>\n",
              "      <td>419</td>\n",
              "    </tr>\n",
              "    <tr>\n",
              "      <th>2020-03-18 01:49:00</th>\n",
              "      <td>5348.71000000</td>\n",
              "      <td>5348.94000000</td>\n",
              "      <td>5340.24000000</td>\n",
              "      <td>5342.93000000</td>\n",
              "      <td>19.91085700</td>\n",
              "      <td>255</td>\n",
              "    </tr>\n",
              "    <tr>\n",
              "      <th>2020-03-18 01:50:00</th>\n",
              "      <td>5343.93000000</td>\n",
              "      <td>5345.65000000</td>\n",
              "      <td>5343.55000000</td>\n",
              "      <td>5344.51000000</td>\n",
              "      <td>9.42361100</td>\n",
              "      <td>213</td>\n",
              "    </tr>\n",
              "    <tr>\n",
              "      <th>2020-03-18 01:51:00</th>\n",
              "      <td>5345.18000000</td>\n",
              "      <td>5346.61000000</td>\n",
              "      <td>5340.00000000</td>\n",
              "      <td>5340.00000000</td>\n",
              "      <td>45.79761600</td>\n",
              "      <td>212</td>\n",
              "    </tr>\n",
              "    <tr>\n",
              "      <th>2020-03-18 01:52:00</th>\n",
              "      <td>5341.08000000</td>\n",
              "      <td>5341.08000000</td>\n",
              "      <td>5329.22000000</td>\n",
              "      <td>5329.61000000</td>\n",
              "      <td>34.38376000</td>\n",
              "      <td>277</td>\n",
              "    </tr>\n",
              "    <tr>\n",
              "      <th>2020-03-18 01:53:00</th>\n",
              "      <td>5329.61000000</td>\n",
              "      <td>5333.91000000</td>\n",
              "      <td>5305.00000000</td>\n",
              "      <td>5305.01000000</td>\n",
              "      <td>223.99707600</td>\n",
              "      <td>1270</td>\n",
              "    </tr>\n",
              "    <tr>\n",
              "      <th>2020-03-18 01:54:00</th>\n",
              "      <td>5305.01000000</td>\n",
              "      <td>5308.61000000</td>\n",
              "      <td>5287.00000000</td>\n",
              "      <td>5297.09000000</td>\n",
              "      <td>340.97122000</td>\n",
              "      <td>1842</td>\n",
              "    </tr>\n",
              "    <tr>\n",
              "      <th>2020-03-18 01:55:00</th>\n",
              "      <td>5297.02000000</td>\n",
              "      <td>5297.89000000</td>\n",
              "      <td>5270.00000000</td>\n",
              "      <td>5283.27000000</td>\n",
              "      <td>252.79726300</td>\n",
              "      <td>1611</td>\n",
              "    </tr>\n",
              "    <tr>\n",
              "      <th>2020-03-18 01:56:00</th>\n",
              "      <td>5281.54000000</td>\n",
              "      <td>5288.68000000</td>\n",
              "      <td>5269.05000000</td>\n",
              "      <td>5276.74000000</td>\n",
              "      <td>127.95928000</td>\n",
              "      <td>807</td>\n",
              "    </tr>\n",
              "    <tr>\n",
              "      <th>2020-03-18 01:57:00</th>\n",
              "      <td>5277.77000000</td>\n",
              "      <td>5279.19000000</td>\n",
              "      <td>5259.43000000</td>\n",
              "      <td>5267.44000000</td>\n",
              "      <td>211.54948700</td>\n",
              "      <td>1324</td>\n",
              "    </tr>\n",
              "    <tr>\n",
              "      <th>2020-03-18 01:58:00</th>\n",
              "      <td>5268.83000000</td>\n",
              "      <td>5286.85000000</td>\n",
              "      <td>5268.83000000</td>\n",
              "      <td>5274.96000000</td>\n",
              "      <td>57.40036500</td>\n",
              "      <td>515</td>\n",
              "    </tr>\n",
              "  </tbody>\n",
              "</table>\n",
              "</div>"
            ],
            "text/plain": [
              "                              Open  ... Number of trades\n",
              "time                                ...                 \n",
              "2020-03-18 01:44:00  5340.24000000  ...              229\n",
              "2020-03-18 01:45:00  5336.28000000  ...              367\n",
              "2020-03-18 01:46:00  5336.50000000  ...              264\n",
              "2020-03-18 01:47:00  5343.04000000  ...              286\n",
              "2020-03-18 01:48:00  5341.48000000  ...              419\n",
              "2020-03-18 01:49:00  5348.71000000  ...              255\n",
              "2020-03-18 01:50:00  5343.93000000  ...              213\n",
              "2020-03-18 01:51:00  5345.18000000  ...              212\n",
              "2020-03-18 01:52:00  5341.08000000  ...              277\n",
              "2020-03-18 01:53:00  5329.61000000  ...             1270\n",
              "2020-03-18 01:54:00  5305.01000000  ...             1842\n",
              "2020-03-18 01:55:00  5297.02000000  ...             1611\n",
              "2020-03-18 01:56:00  5281.54000000  ...              807\n",
              "2020-03-18 01:57:00  5277.77000000  ...             1324\n",
              "2020-03-18 01:58:00  5268.83000000  ...              515\n",
              "\n",
              "[15 rows x 6 columns]"
            ]
          },
          "metadata": {
            "tags": []
          },
          "execution_count": 6
        }
      ]
    },
    {
      "cell_type": "code",
      "metadata": {
        "id": "WPpQh6DmuffX",
        "colab_type": "code",
        "outputId": "8ba9ac71-8e0f-4a60-ff59-0d6e1df5bcc8",
        "colab": {
          "base_uri": "https://localhost:8080/",
          "height": 927
        }
      },
      "source": [
        "heikin_ashi_dataset = heikin_ashi(dataset)\n",
        "plt.plot(heikin_ashi_dataset)\n",
        "heikin_ashi_dataset"
      ],
      "execution_count": 7,
      "outputs": [
        {
          "output_type": "stream",
          "text": [
            "/usr/local/lib/python3.6/dist-packages/pandas/plotting/_matplotlib/converter.py:103: FutureWarning:\n",
            "\n",
            "Using an implicitly registered datetime converter for a matplotlib plotting method. The converter was registered by pandas on import. Future versions of pandas will require you to explicitly register matplotlib converters.\n",
            "\n",
            "To register the converters:\n",
            "\t>>> from pandas.plotting import register_matplotlib_converters\n",
            "\t>>> register_matplotlib_converters()\n",
            "\n"
          ],
          "name": "stderr"
        },
        {
          "output_type": "execute_result",
          "data": {
            "text/html": [
              "<div>\n",
              "<style scoped>\n",
              "    .dataframe tbody tr th:only-of-type {\n",
              "        vertical-align: middle;\n",
              "    }\n",
              "\n",
              "    .dataframe tbody tr th {\n",
              "        vertical-align: top;\n",
              "    }\n",
              "\n",
              "    .dataframe thead th {\n",
              "        text-align: right;\n",
              "    }\n",
              "</style>\n",
              "<table border=\"1\" class=\"dataframe\">\n",
              "  <thead>\n",
              "    <tr style=\"text-align: right;\">\n",
              "      <th></th>\n",
              "      <th>Open</th>\n",
              "      <th>High</th>\n",
              "      <th>Low</th>\n",
              "      <th>Close</th>\n",
              "    </tr>\n",
              "  </thead>\n",
              "  <tbody>\n",
              "    <tr>\n",
              "      <th>2020-03-18 01:44:00</th>\n",
              "      <td>5340.24</td>\n",
              "      <td>5340.240000</td>\n",
              "      <td>5335.000000</td>\n",
              "      <td>5337.8225</td>\n",
              "    </tr>\n",
              "    <tr>\n",
              "      <th>2020-03-18 01:45:00</th>\n",
              "      <td>5339.03</td>\n",
              "      <td>5342.920000</td>\n",
              "      <td>5336.280000</td>\n",
              "      <td>5338.0275</td>\n",
              "    </tr>\n",
              "    <tr>\n",
              "      <th>2020-03-18 01:46:00</th>\n",
              "      <td>5338.53</td>\n",
              "      <td>5343.010000</td>\n",
              "      <td>5335.000000</td>\n",
              "      <td>5339.3800</td>\n",
              "    </tr>\n",
              "    <tr>\n",
              "      <th>2020-03-18 01:47:00</th>\n",
              "      <td>5338.95</td>\n",
              "      <td>5344.000000</td>\n",
              "      <td>5336.530000</td>\n",
              "      <td>5341.2525</td>\n",
              "    </tr>\n",
              "    <tr>\n",
              "      <th>2020-03-18 01:48:00</th>\n",
              "      <td>5340.1</td>\n",
              "      <td>5349.710000</td>\n",
              "      <td>5340.103594</td>\n",
              "      <td>5344.9500</td>\n",
              "    </tr>\n",
              "    <tr>\n",
              "      <th>2020-03-18 01:49:00</th>\n",
              "      <td>5342.53</td>\n",
              "      <td>5348.940000</td>\n",
              "      <td>5340.240000</td>\n",
              "      <td>5345.2050</td>\n",
              "    </tr>\n",
              "    <tr>\n",
              "      <th>2020-03-18 01:50:00</th>\n",
              "      <td>5343.87</td>\n",
              "      <td>5345.650000</td>\n",
              "      <td>5343.550000</td>\n",
              "      <td>5344.4100</td>\n",
              "    </tr>\n",
              "    <tr>\n",
              "      <th>2020-03-18 01:51:00</th>\n",
              "      <td>5344.14</td>\n",
              "      <td>5346.610000</td>\n",
              "      <td>5340.000000</td>\n",
              "      <td>5342.9475</td>\n",
              "    </tr>\n",
              "    <tr>\n",
              "      <th>2020-03-18 01:52:00</th>\n",
              "      <td>5343.54</td>\n",
              "      <td>5343.542725</td>\n",
              "      <td>5329.220000</td>\n",
              "      <td>5335.2475</td>\n",
              "    </tr>\n",
              "    <tr>\n",
              "      <th>2020-03-18 01:53:00</th>\n",
              "      <td>5339.4</td>\n",
              "      <td>5339.395112</td>\n",
              "      <td>5305.000000</td>\n",
              "      <td>5318.3825</td>\n",
              "    </tr>\n",
              "    <tr>\n",
              "      <th>2020-03-18 01:54:00</th>\n",
              "      <td>5328.89</td>\n",
              "      <td>5328.888806</td>\n",
              "      <td>5287.000000</td>\n",
              "      <td>5299.4275</td>\n",
              "    </tr>\n",
              "    <tr>\n",
              "      <th>2020-03-18 01:55:00</th>\n",
              "      <td>5314.16</td>\n",
              "      <td>5314.158153</td>\n",
              "      <td>5270.000000</td>\n",
              "      <td>5287.0450</td>\n",
              "    </tr>\n",
              "    <tr>\n",
              "      <th>2020-03-18 01:56:00</th>\n",
              "      <td>5300.6</td>\n",
              "      <td>5300.601577</td>\n",
              "      <td>5269.050000</td>\n",
              "      <td>5279.0025</td>\n",
              "    </tr>\n",
              "    <tr>\n",
              "      <th>2020-03-18 01:57:00</th>\n",
              "      <td>5289.8</td>\n",
              "      <td>5289.802038</td>\n",
              "      <td>5259.430000</td>\n",
              "      <td>5270.9575</td>\n",
              "    </tr>\n",
              "    <tr>\n",
              "      <th>2020-03-18 01:58:00</th>\n",
              "      <td>5280.38</td>\n",
              "      <td>5286.850000</td>\n",
              "      <td>5268.830000</td>\n",
              "      <td>5274.8675</td>\n",
              "    </tr>\n",
              "  </tbody>\n",
              "</table>\n",
              "</div>"
            ],
            "text/plain": [
              "                        Open         High          Low      Close\n",
              "2020-03-18 01:44:00  5340.24  5340.240000  5335.000000  5337.8225\n",
              "2020-03-18 01:45:00  5339.03  5342.920000  5336.280000  5338.0275\n",
              "2020-03-18 01:46:00  5338.53  5343.010000  5335.000000  5339.3800\n",
              "2020-03-18 01:47:00  5338.95  5344.000000  5336.530000  5341.2525\n",
              "2020-03-18 01:48:00   5340.1  5349.710000  5340.103594  5344.9500\n",
              "2020-03-18 01:49:00  5342.53  5348.940000  5340.240000  5345.2050\n",
              "2020-03-18 01:50:00  5343.87  5345.650000  5343.550000  5344.4100\n",
              "2020-03-18 01:51:00  5344.14  5346.610000  5340.000000  5342.9475\n",
              "2020-03-18 01:52:00  5343.54  5343.542725  5329.220000  5335.2475\n",
              "2020-03-18 01:53:00   5339.4  5339.395112  5305.000000  5318.3825\n",
              "2020-03-18 01:54:00  5328.89  5328.888806  5287.000000  5299.4275\n",
              "2020-03-18 01:55:00  5314.16  5314.158153  5270.000000  5287.0450\n",
              "2020-03-18 01:56:00   5300.6  5300.601577  5269.050000  5279.0025\n",
              "2020-03-18 01:57:00   5289.8  5289.802038  5259.430000  5270.9575\n",
              "2020-03-18 01:58:00  5280.38  5286.850000  5268.830000  5274.8675"
            ]
          },
          "metadata": {
            "tags": []
          },
          "execution_count": 7
        },
        {
          "output_type": "display_data",
          "data": {
            "image/png": "[encoded data removed]",
            "text/plain": [
              "<Figure size 432x288 with 1 Axes>"
            ]
          },
          "metadata": {
            "tags": []
          }
        }
      ]
    },
    {
      "cell_type": "code",
      "metadata": {
        "id": "vnvi3pKx2GMl",
        "colab_type": "code",
        "outputId": "f87bfc7c-c8db-44ba-f177-49abaec13baa",
        "colab": {
          "base_uri": "https://localhost:8080/",
          "height": 542
        }
      },
      "source": [
        "fig = go.Figure(data=[go.Candlestick(x=heikin_ashi_dataset.index.to_series(), \n",
        "                                     open=heikin_ashi_dataset['Open'], \n",
        "                                     high=heikin_ashi_dataset['High'], \n",
        "                                     low=heikin_ashi_dataset['Low'], \n",
        "                                     close=heikin_ashi_dataset['Close'])])\n",
        "\n",
        "fig.show()"
      ],
      "execution_count": 8,
      "outputs": [
        {
          "output_type": "display_data",
          "data": {
            "text/html": [
              "<html>\n",
              "<head><meta charset=\"utf-8\" /></head>\n",
              "<body>\n",
              "    <div>\n",
              "            <script src=\"https://cdnjs.cloudflare.com/ajax/libs/mathjax/2.7.5/MathJax.js?config=TeX-AMS-MML_SVG\"></script><script type=\"text/javascript\">if (window.MathJax) {MathJax.Hub.Config({SVG: {font: \"STIX-Web\"}});}</script>\n",
              "                <script type=\"text/javascript\">window.PlotlyConfig = {MathJaxConfig: 'local'};</script>\n",
              "        <script src=\"https://cdn.plot.ly/plotly-latest.min.js\"></script>    \n",
              "            <div id=\"6b43b336-537c-4294-a81d-0990f3ec0ca1\" class=\"plotly-graph-div\" style=\"height:525px; width:100%;\"></div>\n",
              "            <script type=\"text/javascript\">\n",
              "                \n",
              "                    window.PLOTLYENV=window.PLOTLYENV || {};\n",
              "                    \n",
              "                if (document.getElementById(\"6b43b336-537c-4294-a81d-0990f3ec0ca1\")) {\n",
              "                    Plotly.newPlot(\n",
              "                        '6b43b336-537c-4294-a81d-0990f3ec0ca1',\n",
              "                        [{\"close\": [5337.8225, 5338.0275, 5339.38, 5341.2525, 5344.95, 5345.205, 5344.41, 5342.9475, 5335.2475, 5318.3825, 5299.4275, 5287.045, 5279.0025000000005, 5270.9574999999995, 5274.8675], \"high\": [5340.24, 5342.92, 5343.01, 5344.0, 5349.71, 5348.94, 5345.65, 5346.61, 5343.542724609375, 5339.395112304688, 5328.888806152344, 5314.158153076172, 5300.601576538086, 5289.802038269043, 5286.85], \"low\": [5335.0, 5336.28, 5335.0, 5336.53, 5340.10359375, 5340.24, 5343.55, 5340.0, 5329.22, 5305.0, 5287.0, 5270.0, 5269.05, 5259.43, 5268.83], \"open\": [5340.24, 5339.03125, 5338.529375, 5338.9546875, 5340.10359375, 5342.5267968749995, 5343.8658984375, 5344.13794921875, 5343.542724609375, 5339.395112304688, 5328.888806152344, 5314.158153076172, 5300.601576538086, 5289.802038269043, 5280.379769134521], \"type\": \"candlestick\", \"x\": [\"2020-03-18T01:44:00\", \"2020-03-18T01:45:00\", \"2020-03-18T01:46:00\", \"2020-03-18T01:47:00\", \"2020-03-18T01:48:00\", \"2020-03-18T01:49:00\", \"2020-03-18T01:50:00\", \"2020-03-18T01:51:00\", \"2020-03-18T01:52:00\", \"2020-03-18T01:53:00\", \"2020-03-18T01:54:00\", \"2020-03-18T01:55:00\", \"2020-03-18T01:56:00\", \"2020-03-18T01:57:00\", \"2020-03-18T01:58:00\"]}],\n",
              "                        {\"template\": {\"data\": {\"bar\": [{\"error_x\": {\"color\": \"#2a3f5f\"}, \"error_y\": {\"color\": \"#2a3f5f\"}, \"marker\": {\"line\": {\"color\": \"#E5ECF6\", \"width\": 0.5}}, \"type\": \"bar\"}], \"barpolar\": [{\"marker\": {\"line\": {\"color\": \"#E5ECF6\", \"width\": 0.5}}, \"type\": \"barpolar\"}], \"carpet\": [{\"aaxis\": {\"endlinecolor\": \"#2a3f5f\", \"gridcolor\": \"white\", \"linecolor\": \"white\", \"minorgridcolor\": \"white\", \"startlinecolor\": \"#2a3f5f\"}, \"baxis\": {\"endlinecolor\": \"#2a3f5f\", \"gridcolor\": \"white\", \"linecolor\": \"white\", \"minorgridcolor\": \"white\", \"startlinecolor\": \"#2a3f5f\"}, \"type\": \"carpet\"}], \"choropleth\": [{\"colorbar\": {\"outlinewidth\": 0, \"ticks\": \"\"}, \"type\": \"choropleth\"}], \"contour\": [{\"colorbar\": {\"outlinewidth\": 0, \"ticks\": \"\"}, \"colorscale\": [[0.0, \"#0d0887\"], [0.1111111111111111, \"#46039f\"], [0.2222222222222222, \"#7201a8\"], [0.3333333333333333, \"#9c179e\"], [0.4444444444444444, \"#bd3786\"], [0.5555555555555556, \"#d8576b\"], [0.6666666666666666, \"#ed7953\"], [0.7777777777777778, \"#fb9f3a\"], [0.8888888888888888, \"#fdca26\"], [1.0, \"#f0f921\"]], \"type\": \"contour\"}], \"contourcarpet\": [{\"colorbar\": {\"outlinewidth\": 0, \"ticks\": \"\"}, \"type\": \"contourcarpet\"}], \"heatmap\": [{\"colorbar\": {\"outlinewidth\": 0, \"ticks\": \"\"}, \"colorscale\": [[0.0, \"#0d0887\"], [0.1111111111111111, \"#46039f\"], [0.2222222222222222, \"#7201a8\"], [0.3333333333333333, \"#9c179e\"], [0.4444444444444444, \"#bd3786\"], [0.5555555555555556, \"#d8576b\"], [0.6666666666666666, \"#ed7953\"], [0.7777777777777778, \"#fb9f3a\"], [0.8888888888888888, \"#fdca26\"], [1.0, \"#f0f921\"]], \"type\": \"heatmap\"}], \"heatmapgl\": [{\"colorbar\": {\"outlinewidth\": 0, \"ticks\": \"\"}, \"colorscale\": [[0.0, \"#0d0887\"], [0.1111111111111111, \"#46039f\"], [0.2222222222222222, \"#7201a8\"], [0.3333333333333333, \"#9c179e\"], [0.4444444444444444, \"#bd3786\"], [0.5555555555555556, \"#d8576b\"], [0.6666666666666666, \"#ed7953\"], [0.7777777777777778, \"#fb9f3a\"], [0.8888888888888888, \"#fdca26\"], [1.0, \"#f0f921\"]], \"type\": \"heatmapgl\"}], \"histogram\": [{\"marker\": {\"colorbar\": {\"outlinewidth\": 0, \"ticks\": \"\"}}, \"type\": \"histogram\"}], \"histogram2d\": [{\"colorbar\": {\"outlinewidth\": 0, \"ticks\": \"\"}, \"colorscale\": [[0.0, \"#0d0887\"], [0.1111111111111111, \"#46039f\"], [0.2222222222222222, \"#7201a8\"], [0.3333333333333333, \"#9c179e\"], [0.4444444444444444, \"#bd3786\"], [0.5555555555555556, \"#d8576b\"], [0.6666666666666666, \"#ed7953\"], [0.7777777777777778, \"#fb9f3a\"], [0.8888888888888888, \"#fdca26\"], [1.0, \"#f0f921\"]], \"type\": \"histogram2d\"}], \"histogram2dcontour\": [{\"colorbar\": {\"outlinewidth\": 0, \"ticks\": \"\"}, \"colorscale\": [[0.0, \"#0d0887\"], [0.1111111111111111, \"#46039f\"], [0.2222222222222222, \"#7201a8\"], [0.3333333333333333, \"#9c179e\"], [0.4444444444444444, \"#bd3786\"], [0.5555555555555556, \"#d8576b\"], [0.6666666666666666, \"#ed7953\"], [0.7777777777777778, \"#fb9f3a\"], [0.8888888888888888, \"#fdca26\"], [1.0, \"#f0f921\"]], \"type\": \"histogram2dcontour\"}], \"mesh3d\": [{\"colorbar\": {\"outlinewidth\": 0, \"ticks\": \"\"}, \"type\": \"mesh3d\"}], \"parcoords\": [{\"line\": {\"colorbar\": {\"outlinewidth\": 0, \"ticks\": \"\"}}, \"type\": \"parcoords\"}], \"pie\": [{\"automargin\": true, \"type\": \"pie\"}], \"scatter\": [{\"marker\": {\"colorbar\": {\"outlinewidth\": 0, \"ticks\": \"\"}}, \"type\": \"scatter\"}], \"scatter3d\": [{\"line\": {\"colorbar\": {\"outlinewidth\": 0, \"ticks\": \"\"}}, \"marker\": {\"colorbar\": {\"outlinewidth\": 0, \"ticks\": \"\"}}, \"type\": \"scatter3d\"}], \"scattercarpet\": [{\"marker\": {\"colorbar\": {\"outlinewidth\": 0, \"ticks\": \"\"}}, \"type\": \"scattercarpet\"}], \"scattergeo\": [{\"marker\": {\"colorbar\": {\"outlinewidth\": 0, \"ticks\": \"\"}}, \"type\": \"scattergeo\"}], \"scattergl\": [{\"marker\": {\"colorbar\": {\"outlinewidth\": 0, \"ticks\": \"\"}}, \"type\": \"scattergl\"}], \"scattermapbox\": [{\"marker\": {\"colorbar\": {\"outlinewidth\": 0, \"ticks\": \"\"}}, \"type\": \"scattermapbox\"}], \"scatterpolar\": [{\"marker\": {\"colorbar\": {\"outlinewidth\": 0, \"ticks\": \"\"}}, \"type\": \"scatterpolar\"}], \"scatterpolargl\": [{\"marker\": {\"colorbar\": {\"outlinewidth\": 0, \"ticks\": \"\"}}, \"type\": \"scatterpolargl\"}], \"scatterternary\": [{\"marker\": {\"colorbar\": {\"outlinewidth\": 0, \"ticks\": \"\"}}, \"type\": \"scatterternary\"}], \"surface\": [{\"colorbar\": {\"outlinewidth\": 0, \"ticks\": \"\"}, \"colorscale\": [[0.0, \"#0d0887\"], [0.1111111111111111, \"#46039f\"], [0.2222222222222222, \"#7201a8\"], [0.3333333333333333, \"#9c179e\"], [0.4444444444444444, \"#bd3786\"], [0.5555555555555556, \"#d8576b\"], [0.6666666666666666, \"#ed7953\"], [0.7777777777777778, \"#fb9f3a\"], [0.8888888888888888, \"#fdca26\"], [1.0, \"#f0f921\"]], \"type\": \"surface\"}], \"table\": [{\"cells\": {\"fill\": {\"color\": \"#EBF0F8\"}, \"line\": {\"color\": \"white\"}}, \"header\": {\"fill\": {\"color\": \"#C8D4E3\"}, \"line\": {\"color\": \"white\"}}, \"type\": \"table\"}]}, \"layout\": {\"annotationdefaults\": {\"arrowcolor\": \"#2a3f5f\", \"arrowhead\": 0, \"arrowwidth\": 1}, \"coloraxis\": {\"colorbar\": {\"outlinewidth\": 0, \"ticks\": \"\"}}, \"colorscale\": {\"diverging\": [[0, \"#8e0152\"], [0.1, \"#c51b7d\"], [0.2, \"#de77ae\"], [0.3, \"#f1b6da\"], [0.4, \"#fde0ef\"], [0.5, \"#f7f7f7\"], [0.6, \"#e6f5d0\"], [0.7, \"#b8e186\"], [0.8, \"#7fbc41\"], [0.9, \"#4d9221\"], [1, \"#276419\"]], \"sequential\": [[0.0, \"#0d0887\"], [0.1111111111111111, \"#46039f\"], [0.2222222222222222, \"#7201a8\"], [0.3333333333333333, \"#9c179e\"], [0.4444444444444444, \"#bd3786\"], [0.5555555555555556, \"#d8576b\"], [0.6666666666666666, \"#ed7953\"], [0.7777777777777778, \"#fb9f3a\"], [0.8888888888888888, \"#fdca26\"], [1.0, \"#f0f921\"]], \"sequentialminus\": [[0.0, \"#0d0887\"], [0.1111111111111111, \"#46039f\"], [0.2222222222222222, \"#7201a8\"], [0.3333333333333333, \"#9c179e\"], [0.4444444444444444, \"#bd3786\"], [0.5555555555555556, \"#d8576b\"], [0.6666666666666666, \"#ed7953\"], [0.7777777777777778, \"#fb9f3a\"], [0.8888888888888888, \"#fdca26\"], [1.0, \"#f0f921\"]]}, \"colorway\": [\"#636efa\", \"#EF553B\", \"#00cc96\", \"#ab63fa\", \"#FFA15A\", \"#19d3f3\", \"#FF6692\", \"#B6E880\", \"#FF97FF\", \"#FECB52\"], \"font\": {\"color\": \"#2a3f5f\"}, \"geo\": {\"bgcolor\": \"white\", \"lakecolor\": \"white\", \"landcolor\": \"#E5ECF6\", \"showlakes\": true, \"showland\": true, \"subunitcolor\": \"white\"}, \"hoverlabel\": {\"align\": \"left\"}, \"hovermode\": \"closest\", \"mapbox\": {\"style\": \"light\"}, \"paper_bgcolor\": \"white\", \"plot_bgcolor\": \"#E5ECF6\", \"polar\": {\"angularaxis\": {\"gridcolor\": \"white\", \"linecolor\": \"white\", \"ticks\": \"\"}, \"bgcolor\": \"#E5ECF6\", \"radialaxis\": {\"gridcolor\": \"white\", \"linecolor\": \"white\", \"ticks\": \"\"}}, \"scene\": {\"xaxis\": {\"backgroundcolor\": \"#E5ECF6\", \"gridcolor\": \"white\", \"gridwidth\": 2, \"linecolor\": \"white\", \"showbackground\": true, \"ticks\": \"\", \"zerolinecolor\": \"white\"}, \"yaxis\": {\"backgroundcolor\": \"#E5ECF6\", \"gridcolor\": \"white\", \"gridwidth\": 2, \"linecolor\": \"white\", \"showbackground\": true, \"ticks\": \"\", \"zerolinecolor\": \"white\"}, \"zaxis\": {\"backgroundcolor\": \"#E5ECF6\", \"gridcolor\": \"white\", \"gridwidth\": 2, \"linecolor\": \"white\", \"showbackground\": true, \"ticks\": \"\", \"zerolinecolor\": \"white\"}}, \"shapedefaults\": {\"line\": {\"color\": \"#2a3f5f\"}}, \"ternary\": {\"aaxis\": {\"gridcolor\": \"white\", \"linecolor\": \"white\", \"ticks\": \"\"}, \"baxis\": {\"gridcolor\": \"white\", \"linecolor\": \"white\", \"ticks\": \"\"}, \"bgcolor\": \"#E5ECF6\", \"caxis\": {\"gridcolor\": \"white\", \"linecolor\": \"white\", \"ticks\": \"\"}}, \"title\": {\"x\": 0.05}, \"xaxis\": {\"automargin\": true, \"gridcolor\": \"white\", \"linecolor\": \"white\", \"ticks\": \"\", \"title\": {\"standoff\": 15}, \"zerolinecolor\": \"white\", \"zerolinewidth\": 2}, \"yaxis\": {\"automargin\": true, \"gridcolor\": \"white\", \"linecolor\": \"white\", \"ticks\": \"\", \"title\": {\"standoff\": 15}, \"zerolinecolor\": \"white\", \"zerolinewidth\": 2}}}},\n",
              "                        {\"responsive\": true}\n",
              "                    ).then(function(){\n",
              "                            \n",
              "var gd = document.getElementById('6b43b336-537c-4294-a81d-0990f3ec0ca1');\n",
              "var x = new MutationObserver(function (mutations, observer) {{\n",
              "        var display = window.getComputedStyle(gd).display;\n",
              "        if (!display || display === 'none') {{\n",
              "            console.log([gd, 'removed!']);\n",
              "            Plotly.purge(gd);\n",
              "            observer.disconnect();\n",
              "        }}\n",
              "}});\n",
              "\n",
              "// Listen for the removal of the full notebook cells\n",
              "var notebookContainer = gd.closest('#notebook-container');\n",
              "if (notebookContainer) {{\n",
              "    x.observe(notebookContainer, {childList: true});\n",
              "}}\n",
              "\n",
              "// Listen for the clearing of the current output cell\n",
              "var outputEl = gd.closest('.output');\n",
              "if (outputEl) {{\n",
              "    x.observe(outputEl, {childList: true});\n",
              "}}\n",
              "\n",
              "                        })\n",
              "                };\n",
              "                \n",
              "            </script>\n",
              "        </div>\n",
              "</body>\n",
              "</html>"
            ]
          },
          "metadata": {
            "tags": []
          }
        }
      ]
    },
    {
      "cell_type": "code",
      "metadata": {
        "id": "JDLR47idox-F",
        "colab_type": "code",
        "outputId": "ca28b092-238a-4c12-b25a-46c099363d95",
        "colab": {
          "base_uri": "https://localhost:8080/",
          "height": 543
        }
      },
      "source": [
        "latent_trend = ((heikin_ashi_dataset['Close'] - heikin_ashi_dataset['Open']) > 0).astype(int)\n",
        "plt.plot(latent_trend)\n",
        "latent_trend"
      ],
      "execution_count": 9,
      "outputs": [
        {
          "output_type": "execute_result",
          "data": {
            "text/plain": [
              "2020-03-18 01:44:00    0\n",
              "2020-03-18 01:45:00    0\n",
              "2020-03-18 01:46:00    1\n",
              "2020-03-18 01:47:00    1\n",
              "2020-03-18 01:48:00    1\n",
              "2020-03-18 01:49:00    1\n",
              "2020-03-18 01:50:00    1\n",
              "2020-03-18 01:51:00    0\n",
              "2020-03-18 01:52:00    0\n",
              "2020-03-18 01:53:00    0\n",
              "2020-03-18 01:54:00    0\n",
              "2020-03-18 01:55:00    0\n",
              "2020-03-18 01:56:00    0\n",
              "2020-03-18 01:57:00    0\n",
              "2020-03-18 01:58:00    0\n",
              "dtype: int64"
            ]
          },
          "metadata": {
            "tags": []
          },
          "execution_count": 9
        },
        {
          "output_type": "display_data",
          "data": {
            "image/png": "[encoded data removed]",
            "text/plain": [
              "<Figure size 432x288 with 1 Axes>"
            ]
          },
          "metadata": {
            "tags": []
          }
        }
      ]
    },
    {
      "cell_type": "code",
      "metadata": {
        "id": "TLz_pFippdCr",
        "colab_type": "code",
        "colab": {}
      },
      "source": [
        "#list(filter(lambda x: float(x['free']) != 0.0, client.get_account()['balances']))"
      ],
      "execution_count": 0,
      "outputs": []
    },
    {
      "cell_type": "code",
      "metadata": {
        "id": "MpBBCjK5Zffa",
        "colab_type": "code",
        "colab": {
          "base_uri": "https://localhost:8080/",
          "height": 1000
        },
        "outputId": "1d144fe2-dd69-4e35-a545-b99d48ba1073"
      },
      "source": [
        "position = 'sell'\n",
        "\n",
        "while True:\n",
        "    try:\n",
        "        sleep(10)\n",
        "        dataset = download_dataset(symbol=symbol)\n",
        "        dataset = heikin_ashi(dataset)\n",
        "        latent_trend = ((dataset['Close'] - dataset['Open']) > 0).astype(int)\n",
        "        plt.plot(latent_trend)\n",
        "        plt.show()\n",
        "\n",
        "        if latent_trend[-1] == 1 and latent_trend[-2] == 1 and position == 'sell':\n",
        "            position = 'buy'\n",
        "            client.create_order(symbol=symbol, \n",
        "                                side=Client.SIDE_BUY, \n",
        "                                type=Client.ORDER_TYPE_MARKET, \n",
        "                                quantity=0.009, \n",
        "                                recvWindow=10000)\n",
        "\n",
        "        elif latent_trend[-1] == 0 and latent_trend[-2] == 0 and position == 'buy':\n",
        "            position = 'sell'\n",
        "            client.create_order(symbol=symbol, \n",
        "                                side=Client.SIDE_SELL, \n",
        "                                type=Client.ORDER_TYPE_MARKET, \n",
        "                                quantity=0.009, \n",
        "                                recvWindow=10000)\n",
        "    except:\n",
        "        if position == 'sell':\n",
        "            position == 'buy'\n",
        "        elif position == 'buy':\n",
        "            position == 'sell'\n"
      ],
      "execution_count": 0,
      "outputs": [
        {
          "output_type": "display_data",
          "data": {
            "image/png": "[encoded data removed]",
            "text/plain": [
              "<Figure size 432x288 with 1 Axes>"
            ]
          },
          "metadata": {
            "tags": []
          }
        },
        {
          "output_type": "display_data",
          "data": {
            "image/png": "[encoded data removed]",
            "text/plain": [
              "<Figure size 432x288 with 1 Axes>"
            ]
          },
          "metadata": {
            "tags": []
          }
        },
        {
          "output_type": "display_data",
          "data": {
            "image/png": "[encoded data removed]",
            "text/plain": [
              "<Figure size 432x288 with 1 Axes>"
            ]
          },
          "metadata": {
            "tags": []
          }
        },
        {
          "output_type": "display_data",
          "data": {
            "image/png": "[encoded data removed]",
            "text/plain": [
              "<Figure size 432x288 with 1 Axes>"
            ]
          },
          "metadata": {
            "tags": []
          }
        },
        {
          "output_type": "display_data",
          "data": {
            "image/png": "[encoded data removed]",
            "text/plain": [
              "<Figure size 432x288 with 1 Axes>"
            ]
          },
          "metadata": {
            "tags": []
          }
        },
        {
          "output_type": "display_data",
          "data": {
            "image/png": "[encoded data removed]",
            "text/plain": [
              "<Figure size 432x288 with 1 Axes>"
            ]
          },
          "metadata": {
            "tags": []
          }
        },
        {
          "output_type": "display_data",
          "data": {
            "image/png": "[encoded data removed]",
            "text/plain": [
              "<Figure size 432x288 with 1 Axes>"
            ]
          },
          "metadata": {
            "tags": []
          }
        },
        {
          "output_type": "display_data",
          "data": {
            "image/png": "[encoded data removed]",
            "text/plain": [
              "<Figure size 432x288 with 1 Axes>"
            ]
          },
          "metadata": {
            "tags": []
          }
        },
        {
          "output_type": "display_data",
          "data": {
            "image/png": "[encoded data removed]",
            "text/plain": [
              "<Figure size 432x288 with 1 Axes>"
            ]
          },
          "metadata": {
            "tags": []
          }
        },
        {
          "output_type": "display_data",
          "data": {
            "image/png": "[encoded data removed]",
            "text/plain": [
              "<Figure size 432x288 with 1 Axes>"
            ]
          },
          "metadata": {
            "tags": []
          }
        },
        {
          "output_type": "display_data",
          "data": {
            "image/png": "[encoded data removed]",
            "text/plain": [
              "<Figure size 432x288 with 1 Axes>"
            ]
          },
          "metadata": {
            "tags": []
          }
        },
        {
          "output_type": "display_data",
          "data": {
            "image/png": "[encoded data removed]",
            "text/plain": [
              "<Figure size 432x288 with 1 Axes>"
            ]
          },
          "metadata": {
            "tags": []
          }
        },
        {
          "output_type": "display_data",
          "data": {
            "image/png": "[encoded data removed]",
            "text/plain": [
              "<Figure size 432x288 with 1 Axes>"
            ]
          },
          "metadata": {
            "tags": []
          }
        },
        {
          "output_type": "display_data",
          "data": {
            "image/png": "[encoded data removed]",
            "text/plain": [
              "<Figure size 432x288 with 1 Axes>"
            ]
          },
          "metadata": {
            "tags": []
          }
        }
      ]
    }
  ]
}